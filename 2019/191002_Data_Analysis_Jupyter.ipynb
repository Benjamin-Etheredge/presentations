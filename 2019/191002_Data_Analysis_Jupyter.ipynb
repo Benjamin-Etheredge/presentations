{
  "nbformat": 4,
  "nbformat_minor": 0,
  "metadata": {
    "colab": {
      "name": "191002_Data_Analysis_Jupyter.ipynb",
      "provenance": [],
      "include_colab_link": true
    },
    "kernelspec": {
      "name": "python3",
      "display_name": "Python 3"
    }
  },
  "cells": [
    {
      "cell_type": "markdown",
      "metadata": {
        "id": "view-in-github",
        "colab_type": "text"
      },
      "source": [
        "<a href=\"https://colab.research.google.com/github/HSV-AI/presentations/blob/master/2019/191002_Data_Analysis_Jupyter.ipynb\" target=\"_parent\"><img src=\"https://colab.research.google.com/assets/colab-badge.svg\" alt=\"Open In Colab\"/></a>"
      ]
    },
    {
      "cell_type": "markdown",
      "metadata": {
        "id": "za-oTckAGPK5",
        "colab_type": "text"
      },
      "source": [
        "# Analyzing Data with Jupyter Notebook\n",
        "\n",
        "This notebook is based in part on the Data Science Handbook by Jake VanderPlas that you can find [here](https://colab.research.google.com/github/jakevdp/PythonDataScienceHandbook/blob/master/notebooks/Index.ipynb)\n",
        "\n"
      ]
    },
    {
      "cell_type": "markdown",
      "metadata": {
        "id": "pnUHuX50QYXr",
        "colab_type": "text"
      },
      "source": [
        "## IPython Tips\n",
        "\n",
        "Here are a few tips that will help you get started using a Jupyter Notebook."
      ]
    },
    {
      "cell_type": "markdown",
      "metadata": {
        "id": "gUwRN2KvH057",
        "colab_type": "text"
      },
      "source": [
        "### Tip 1 - Help\n",
        "\n",
        "You can use the ? character at the end of a function or type to access the help for that function or type."
      ]
    },
    {
      "cell_type": "code",
      "metadata": {
        "id": "lJTd6ksBG-x5",
        "colab_type": "code",
        "colab": {}
      },
      "source": [
        "# Let's create a list and see how to get the length\n",
        "v = [1.0, 2.0, 3.0]\n",
        "len?"
      ],
      "execution_count": 0,
      "outputs": []
    },
    {
      "cell_type": "code",
      "metadata": {
        "id": "MXi6H5VAICiO",
        "colab_type": "code",
        "colab": {
          "base_uri": "https://localhost:8080/",
          "height": 34
        },
        "outputId": "024519c5-b60d-40ca-f378-09ebfc4856ff"
      },
      "source": [
        "len(v)"
      ],
      "execution_count": 6,
      "outputs": [
        {
          "output_type": "execute_result",
          "data": {
            "text/plain": [
              "3"
            ]
          },
          "metadata": {
            "tags": []
          },
          "execution_count": 6
        }
      ]
    },
    {
      "cell_type": "code",
      "metadata": {
        "id": "sttwBBxTIPHr",
        "colab_type": "code",
        "colab": {}
      },
      "source": [
        "# We can even get information about the list itself:\n",
        "v?"
      ],
      "execution_count": 0,
      "outputs": []
    },
    {
      "cell_type": "code",
      "metadata": {
        "id": "9dz5PQIgIZ5c",
        "colab_type": "code",
        "colab": {}
      },
      "source": [
        "# Let's create a function with a helpful description\n",
        "def empty_function():\n",
        "  \"\"\"This is just an empty function. Please don't call it.\"\"\"\n",
        "  return 1"
      ],
      "execution_count": 0,
      "outputs": []
    },
    {
      "cell_type": "code",
      "metadata": {
        "id": "JLegzO6FIlub",
        "colab_type": "code",
        "colab": {}
      },
      "source": [
        "# Now the description is available by asking for help\n",
        "empty_function?"
      ],
      "execution_count": 0,
      "outputs": []
    },
    {
      "cell_type": "code",
      "metadata": {
        "id": "AlqzP97UIqwi",
        "colab_type": "code",
        "colab": {}
      },
      "source": [
        "# Two question marks will display the source for the function\n",
        "empty_function??"
      ],
      "execution_count": 0,
      "outputs": []
    },
    {
      "cell_type": "markdown",
      "metadata": {
        "id": "1hrks5SxJSFD",
        "colab_type": "text"
      },
      "source": [
        "### Tip 2 - Tab Completion\n",
        "\n",
        "Well, I was going to add a section about how to use the \\<TAB\\> key to autocomplete, but it appears that Colab already has that feature built into the editor.\n",
        "\n",
        "Just in case, try the command \n",
        "\n",
        "?>v.\\<TAB\\> \n",
        "\n",
        "below:"
      ]
    },
    {
      "cell_type": "code",
      "metadata": {
        "id": "kv6TjozhJKM3",
        "colab_type": "code",
        "colab": {}
      },
      "source": [
        ""
      ],
      "execution_count": 0,
      "outputs": []
    },
    {
      "cell_type": "markdown",
      "metadata": {
        "id": "GF9tGhNWK07S",
        "colab_type": "text"
      },
      "source": [
        "### Tip 3 - Magic Commands\n",
        "\n",
        "No really, they are called magic because they start with a '%'\n",
        "\n",
        "One of the most useful commands that can be used to split up a large notebook is the %run magic command. Using it, you\n",
        "can run external python scripts or even IPython notebooks \n",
        "inside the context of the current notebook.\n",
        "\n",
        "An example of this can be found in the HSV-AI Bug Analysis notebook [here](https://colab.research.google.com/github/HSV-AI/bug-analysis/blob/master/Doc2Vec.ipynb)\n",
        "\n",
        "Two other very useful magic commands are **%time** and **%timeit**\n"
      ]
    },
    {
      "cell_type": "code",
      "metadata": {
        "id": "IYtien9FL4SR",
        "colab_type": "code",
        "colab": {
          "base_uri": "https://localhost:8080/",
          "height": 118
        },
        "outputId": "2a653b48-cce1-4bcb-aefe-69c9464442a5"
      },
      "source": [
        "# Using an example directly from VanderPlas:\n",
        "print(\"Here's the output of the %timeit command:\")\n",
        "%timeit L = [n ** 2 for n in range(1000)]\n",
        "\n",
        "print(\"\\nHere's the output of the %time command:\")\n",
        "%time  L = [n ** 2 for n in range(1000)]"
      ],
      "execution_count": 14,
      "outputs": [
        {
          "output_type": "stream",
          "text": [
            "Here's the output of the %timeit command:\n",
            "1000 loops, best of 3: 246 µs per loop\n",
            "\n",
            "Here's the output of the %time command:\n",
            "CPU times: user 275 µs, sys: 0 ns, total: 275 µs\n",
            "Wall time: 277 µs\n"
          ],
          "name": "stdout"
        }
      ]
    },
    {
      "cell_type": "markdown",
      "metadata": {
        "id": "5XEEjJL7NuTY",
        "colab_type": "text"
      },
      "source": [
        "### Tip 4 - Suppressing Output\n",
        "\n",
        "Jupyter will send the result of the last command from a cell to the output. Sometimes you just want it to stay quiet though - especically if you are generating plots and other items that do not need the ouput text inserted.\n",
        "\n",
        "In order to suppress the output, just end the line with a ';'"
      ]
    },
    {
      "cell_type": "code",
      "metadata": {
        "id": "f3kDLxQIOISR",
        "colab_type": "code",
        "colab": {
          "base_uri": "https://localhost:8080/",
          "height": 34
        },
        "outputId": "390c5a5c-cc5e-406b-968c-73b490fc60f0"
      },
      "source": [
        "# This code has output\n",
        "p1 = 'This little piggy had roast beef'\n",
        "p1"
      ],
      "execution_count": 18,
      "outputs": [
        {
          "output_type": "execute_result",
          "data": {
            "text/plain": [
              "'This little piggy had roast beef'"
            ]
          },
          "metadata": {
            "tags": []
          },
          "execution_count": 18
        }
      ]
    },
    {
      "cell_type": "code",
      "metadata": {
        "id": "HQbnhFDtORM5",
        "colab_type": "code",
        "colab": {}
      },
      "source": [
        "# This code does not have output\n",
        "p2 = 'This little piggy had none'\n",
        "p2;"
      ],
      "execution_count": 0,
      "outputs": []
    },
    {
      "cell_type": "markdown",
      "metadata": {
        "id": "8GDXO9yFOn54",
        "colab_type": "text"
      },
      "source": [
        "### Tip 5 - %history Magic\n",
        "\n",
        "This particular piece of magic is very helpful when you may have run cells out of order and are trying to troubleshoot what happened in what order."
      ]
    },
    {
      "cell_type": "code",
      "metadata": {
        "id": "xQIc8VxqOkZf",
        "colab_type": "code",
        "colab": {}
      },
      "source": [
        "%history"
      ],
      "execution_count": 0,
      "outputs": []
    },
    {
      "cell_type": "markdown",
      "metadata": {
        "id": "_CnXfWNcKuAH",
        "colab_type": "text"
      },
      "source": [
        "### Tip 6- Shell Commands\n",
        "\n",
        "Most Linux shell commands are available from the Jupyter notebook as well. One good example is shown below and sets us up to start doing some data analysis."
      ]
    },
    {
      "cell_type": "code",
      "metadata": {
        "id": "-R0wLdL7EU5F",
        "colab_type": "code",
        "outputId": "ccf6389d-4b19-4feb-c846-4b4c03f1049b",
        "colab": {
          "base_uri": "https://localhost:8080/",
          "height": 202
        }
      },
      "source": [
        "!wget https://data.nasa.gov/api/views/gh4g-9sfh/rows.csv"
      ],
      "execution_count": 1,
      "outputs": [
        {
          "output_type": "stream",
          "text": [
            "--2019-10-02 12:46:47--  https://data.nasa.gov/api/views/gh4g-9sfh/rows.csv\n",
            "Resolving data.nasa.gov (data.nasa.gov)... 128.102.186.77, 2001:4d0:6311:2c05:60b0:5ad8:1210:ea07\n",
            "Connecting to data.nasa.gov (data.nasa.gov)|128.102.186.77|:443... connected.\n",
            "HTTP request sent, awaiting response... 200 OK\n",
            "Length: unspecified [text/csv]\n",
            "Saving to: ‘rows.csv’\n",
            "\n",
            "rows.csv                [         <=>        ]   4.55M  2.57MB/s    in 1.8s    \n",
            "\n",
            "2019-10-02 12:46:55 (2.57 MB/s) - ‘rows.csv’ saved [4769811]\n",
            "\n"
          ],
          "name": "stdout"
        }
      ]
    },
    {
      "cell_type": "markdown",
      "metadata": {
        "id": "xisxPl98Quab",
        "colab_type": "text"
      },
      "source": [
        "## Pandas Dataframes\n",
        "\n",
        "Pandas datafames are a great way to work with tabular data.\n",
        "\n",
        "There are several ways to load a dataframe from common file formats like json and csv.\n"
      ]
    },
    {
      "cell_type": "code",
      "metadata": {
        "id": "gcZNyAN5Qxbn",
        "colab_type": "code",
        "colab": {
          "base_uri": "https://localhost:8080/",
          "height": 67
        },
        "outputId": "ad1b0ff6-f9ca-4912-f665-eca668741878"
      },
      "source": [
        "import pandas as pd\n",
        "import numpy as np\n",
        "\n",
        "df = pd.read_csv('rows.csv')\n",
        "\n",
        "# Now let's look at the columns available in the dataframe\n",
        "df.columns"
      ],
      "execution_count": 2,
      "outputs": [
        {
          "output_type": "execute_result",
          "data": {
            "text/plain": [
              "Index(['name', 'id', 'nametype', 'recclass', 'mass (g)', 'fall', 'year',\n",
              "       'reclat', 'reclong', 'GeoLocation'],\n",
              "      dtype='object')"
            ]
          },
          "metadata": {
            "tags": []
          },
          "execution_count": 2
        }
      ]
    },
    {
      "cell_type": "code",
      "metadata": {
        "id": "FXXR5eb6hY5j",
        "colab_type": "code",
        "colab": {}
      },
      "source": [
        "# We can also get an idea of the data by using the head function\n",
        "df.head"
      ],
      "execution_count": 0,
      "outputs": []
    },
    {
      "cell_type": "code",
      "metadata": {
        "id": "0gmzEN53hx5x",
        "colab_type": "code",
        "colab": {}
      },
      "source": [
        "# We can copy columns of the dataframe into a new dataframe\n",
        "df_copy = df[['name', 'id']]\n",
        "\n",
        "df_copy.head"
      ],
      "execution_count": 0,
      "outputs": []
    },
    {
      "cell_type": "code",
      "metadata": {
        "id": "ZTIoWlW_jVls",
        "colab_type": "code",
        "colab": {}
      },
      "source": [
        "# Changes to the copy do not affect the original\n",
        "df_copy['id'] = 0\n",
        "\n",
        "print(df_copy.head)\n",
        "\n",
        "print(df.head)"
      ],
      "execution_count": 0,
      "outputs": []
    },
    {
      "cell_type": "code",
      "metadata": {
        "id": "g2mjql5ORI1g",
        "colab_type": "code",
        "colab": {
          "base_uri": "https://localhost:8080/",
          "height": 1000
        },
        "outputId": "4f692f1b-a54f-43b1-f271-743929a9e243"
      },
      "source": [
        "df_view = df.loc[:, ['name','id']]\n",
        "\n",
        "df_view['id'] = 0\n",
        "\n",
        "print(df_view.head)\n",
        "\n",
        "print(df.head)"
      ],
      "execution_count": 21,
      "outputs": [
        {
          "output_type": "stream",
          "text": [
            "<bound method NDFrame.head of                       name  id\n",
            "0                   Aachen   0\n",
            "1                   Aarhus   0\n",
            "2                     Abee   0\n",
            "3                 Acapulco   0\n",
            "4                  Achiras   0\n",
            "5                 Adhi Kot   0\n",
            "6      Adzhi-Bogdo (stone)   0\n",
            "7                     Agen   0\n",
            "8                   Aguada   0\n",
            "9            Aguila Blanca   0\n",
            "10        Aioun el Atrouss   0\n",
            "11                     Aïr   0\n",
            "12         Aire-sur-la-Lys   0\n",
            "13                   Akaba   0\n",
            "14                Akbarpur   0\n",
            "15                 Akwanga   0\n",
            "16                 Akyumak   0\n",
            "17                 Al Rais   0\n",
            "18               Al Zarnkh   0\n",
            "19                   Alais   0\n",
            "20                Albareto   0\n",
            "21                 Alberta   0\n",
            "22         Alby sur Chéran   0\n",
            "23               Aldsworth   0\n",
            "24                  Aleppo   0\n",
            "25             Alessandria   0\n",
            "26           Alexandrovsky   0\n",
            "27              Alfianello   0\n",
            "28                 Allegan   0\n",
            "29                 Allende   0\n",
            "...                    ...  ..\n",
            "45686               Ysleta   0\n",
            "45687            Yucca 015   0\n",
            "45688            Yucca 016   0\n",
            "45689            Yucca 017   0\n",
            "45690               Yudoma   0\n",
            "45691     Zacatecas (1792)   0\n",
            "45692     Zacatecas (1969)   0\n",
            "45693               Zaffra   0\n",
            "45694              Zag (b)   0\n",
            "45695               Zagora   0\n",
            "45696            Zakłodzie   0\n",
            "45697           Zapaliname   0\n",
            "45698        Zapata County   0\n",
            "45699   Zapotitlán Salinas   0\n",
            "45700             Zaragoza   0\n",
            "45701               Zegdou   0\n",
            "45702              Zelfana   0\n",
            "45703                Zenda   0\n",
            "45704                Zerga   0\n",
            "45705             Zerhamra   0\n",
            "45706              Zerkaly   0\n",
            "45707             Zhaoping   0\n",
            "45708             Zhigansk   0\n",
            "45709           Zhongxiang   0\n",
            "45710           Zillah 001   0\n",
            "45711           Zillah 002   0\n",
            "45712               Zinder   0\n",
            "45713                 Zlin   0\n",
            "45714            Zubkovsky   0\n",
            "45715           Zulu Queen   0\n",
            "\n",
            "[45716 rows x 2 columns]>\n",
            "<bound method NDFrame.head of                       name     id  ...    reclong             GeoLocation\n",
            "0                   Aachen      1  ...    6.08333       (50.775, 6.08333)\n",
            "1                   Aarhus      2  ...   10.23333    (56.18333, 10.23333)\n",
            "2                     Abee      6  ... -113.00000      (54.21667, -113.0)\n",
            "3                 Acapulco     10  ...  -99.90000       (16.88333, -99.9)\n",
            "4                  Achiras    370  ...  -64.95000     (-33.16667, -64.95)\n",
            "5                 Adhi Kot    379  ...   71.80000            (32.1, 71.8)\n",
            "6      Adzhi-Bogdo (stone)    390  ...   95.16667    (44.83333, 95.16667)\n",
            "7                     Agen    392  ...    0.61667     (44.21667, 0.61667)\n",
            "8                   Aguada    398  ...  -65.23333      (-31.6, -65.23333)\n",
            "9            Aguila Blanca    417  ...  -64.55000     (-30.86667, -64.55)\n",
            "10        Aioun el Atrouss    423  ...   -9.57028    (16.39806, -9.57028)\n",
            "11                     Aïr    424  ...    8.38333     (19.08333, 8.38333)\n",
            "12         Aire-sur-la-Lys    425  ...    2.33333     (50.66667, 2.33333)\n",
            "13                   Akaba    426  ...   35.05000       (29.51667, 35.05)\n",
            "14                Akbarpur    427  ...   77.95000       (29.71667, 77.95)\n",
            "15                 Akwanga    432  ...    8.43333      (8.91667, 8.43333)\n",
            "16                 Akyumak    433  ...   42.81667    (39.91667, 42.81667)\n",
            "17                 Al Rais    446  ...   39.51667    (24.41667, 39.51667)\n",
            "18               Al Zarnkh    447  ...   28.96000       (13.66033, 28.96)\n",
            "19                   Alais    448  ...    4.08333     (44.11667, 4.08333)\n",
            "20                Albareto    453  ...   11.01667       (44.65, 11.01667)\n",
            "21                 Alberta    454  ...   22.66667         (2.0, 22.66667)\n",
            "22         Alby sur Chéran    458  ...    6.01533     (45.82133, 6.01533)\n",
            "23               Aldsworth    461  ...   -1.78333    (51.78333, -1.78333)\n",
            "24                  Aleppo    462  ...   37.13333    (36.23333, 37.13333)\n",
            "25             Alessandria    463  ...    8.75000        (44.88333, 8.75)\n",
            "26           Alexandrovsky    465  ...   31.81667       (50.95, 31.81667)\n",
            "27              Alfianello    466  ...   10.15000       (45.26667, 10.15)\n",
            "28                 Allegan   2276  ...  -85.88333   (42.53333, -85.88333)\n",
            "29                 Allende   2278  ... -105.31667  (26.96667, -105.31667)\n",
            "...                    ...    ...  ...        ...                     ...\n",
            "45686               Ysleta  30375  ... -106.18333     (31.65, -106.18333)\n",
            "45687            Yucca 015  57175  ... -114.27610    (34.8197, -114.2761)\n",
            "45688            Yucca 016  57158  ... -114.27763  (34.82658, -114.27763)\n",
            "45689            Yucca 017  57159  ... -114.27735  (34.81923, -114.27735)\n",
            "45690               Yudoma  30376  ...  140.00000           (60.0, 140.0)\n",
            "45691     Zacatecas (1792)  30381  ... -102.56667  (22.81667, -102.56667)\n",
            "45692     Zacatecas (1969)  30382  ...        NaN                     NaN\n",
            "45693               Zaffra  30383  ...  -94.75000          (35.0, -94.75)\n",
            "45694              Zag (b)  30385  ...   -9.33333    (27.33333, -9.33333)\n",
            "45695               Zagora  30387  ...   -5.85000       (30.36667, -5.85)\n",
            "45696            Zakłodzie  30390  ...   22.86611    (50.76278, 22.86611)\n",
            "45697           Zapaliname  30392  ... -100.75000     (25.00944, -100.75)\n",
            "45698        Zapata County  30393  ...  -99.00000           (27.0, -99.0)\n",
            "45699   Zapotitlán Salinas  30394  ...  -97.50000       (18.33333, -97.5)\n",
            "45700             Zaragoza  48916  ...   -0.86667       (41.65, -0.86667)\n",
            "45701               Zegdou  30398  ...   -4.50000           (29.75, -4.5)\n",
            "45702              Zelfana  31353  ...    4.63333     (32.15833, 4.63333)\n",
            "45703                Zenda  30400  ...  -88.48944   (42.51333, -88.48944)\n",
            "45704                Zerga  30402  ...  -12.68333      (20.25, -12.68333)\n",
            "45705             Zerhamra  30403  ...   -2.64500      (29.85861, -2.645)\n",
            "45706              Zerkaly  31354  ...   81.96667    (52.13333, 81.96667)\n",
            "45707             Zhaoping  54609  ...  111.18333   (24.23333, 111.18333)\n",
            "45708             Zhigansk  30405  ...  128.30000           (68.0, 128.3)\n",
            "45709           Zhongxiang  30406  ...  112.50000           (31.2, 112.5)\n",
            "45710           Zillah 001  31355  ...   17.01850       (29.037, 17.0185)\n",
            "45711           Zillah 002  31356  ...   17.01850       (29.037, 17.0185)\n",
            "45712               Zinder  30409  ...    8.96667     (13.78333, 8.96667)\n",
            "45713                 Zlin  30410  ...   17.66667       (49.25, 17.66667)\n",
            "45714            Zubkovsky  31357  ...   41.50460     (49.78917, 41.5046)\n",
            "45715           Zulu Queen  30414  ... -115.68333  (33.98333, -115.68333)\n",
            "\n",
            "[45716 rows x 10 columns]>\n"
          ],
          "name": "stdout"
        }
      ]
    },
    {
      "cell_type": "code",
      "metadata": {
        "id": "WigMwnTSSfY6",
        "colab_type": "code",
        "colab": {}
      },
      "source": [
        ""
      ],
      "execution_count": 0,
      "outputs": []
    }
  ]
}