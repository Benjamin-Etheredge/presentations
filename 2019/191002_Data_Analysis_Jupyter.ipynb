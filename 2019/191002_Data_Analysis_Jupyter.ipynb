{
  "nbformat": 4,
  "nbformat_minor": 0,
  "metadata": {
    "colab": {
      "name": "191002_Data_Analysis_Jupyter.ipynb",
      "provenance": [],
      "toc_visible": true,
      "include_colab_link": true
    },
    "kernelspec": {
      "name": "python3",
      "display_name": "Python 3"
    }
  },
  "cells": [
    {
      "cell_type": "markdown",
      "metadata": {
        "id": "view-in-github",
        "colab_type": "text"
      },
      "source": [
        "<a href=\"https://colab.research.google.com/github/HSV-AI/presentations/blob/master/2019/191002_Data_Analysis_Jupyter.ipynb\" target=\"_parent\"><img src=\"https://colab.research.google.com/assets/colab-badge.svg\" alt=\"Open In Colab\"/></a>"
      ]
    },
    {
      "cell_type": "markdown",
      "metadata": {
        "id": "za-oTckAGPK5",
        "colab_type": "text"
      },
      "source": [
        "# Analyzing Data with Jupyter Notebook\n",
        "\n",
        "This notebook is based in part on the Data Science Handbook by Jake VanderPlas that you can find [here](https://colab.research.google.com/github/jakevdp/PythonDataScienceHandbook/blob/master/notebooks/Index.ipynb)\n",
        "\n"
      ]
    },
    {
      "cell_type": "markdown",
      "metadata": {
        "id": "pnUHuX50QYXr",
        "colab_type": "text"
      },
      "source": [
        "## IPython Tips\n",
        "\n",
        "Here are a few tips that will help you get started using a Jupyter Notebook."
      ]
    },
    {
      "cell_type": "markdown",
      "metadata": {
        "id": "gUwRN2KvH057",
        "colab_type": "text"
      },
      "source": [
        "### Tip 1 - Help\n",
        "\n",
        "You can use the ? character at the end of a function or type to access the help for that function or type."
      ]
    },
    {
      "cell_type": "code",
      "metadata": {
        "id": "lJTd6ksBG-x5",
        "colab_type": "code",
        "colab": {}
      },
      "source": [
        "# Let's create a list and see how to get the length\n",
        "v = [1.0, 2.0, 3.0]\n",
        "len?"
      ],
      "execution_count": 0,
      "outputs": []
    },
    {
      "cell_type": "code",
      "metadata": {
        "id": "MXi6H5VAICiO",
        "colab_type": "code",
        "colab": {}
      },
      "source": [
        "len(v)"
      ],
      "execution_count": 0,
      "outputs": []
    },
    {
      "cell_type": "code",
      "metadata": {
        "id": "sttwBBxTIPHr",
        "colab_type": "code",
        "colab": {}
      },
      "source": [
        "# We can even get information about the list itself:\n",
        "v?"
      ],
      "execution_count": 0,
      "outputs": []
    },
    {
      "cell_type": "code",
      "metadata": {
        "id": "9dz5PQIgIZ5c",
        "colab_type": "code",
        "colab": {}
      },
      "source": [
        "# Let's create a function with a helpful description\n",
        "def empty_function():\n",
        "  \"\"\"This is just an empty function. Please don't call it.\"\"\"\n",
        "  return 1"
      ],
      "execution_count": 0,
      "outputs": []
    },
    {
      "cell_type": "code",
      "metadata": {
        "id": "JLegzO6FIlub",
        "colab_type": "code",
        "colab": {}
      },
      "source": [
        "# Now the description is available by asking for help\n",
        "empty_function?"
      ],
      "execution_count": 0,
      "outputs": []
    },
    {
      "cell_type": "code",
      "metadata": {
        "id": "AlqzP97UIqwi",
        "colab_type": "code",
        "colab": {}
      },
      "source": [
        "# Two question marks will display the source for the function\n",
        "empty_function??"
      ],
      "execution_count": 0,
      "outputs": []
    },
    {
      "cell_type": "markdown",
      "metadata": {
        "id": "1hrks5SxJSFD",
        "colab_type": "text"
      },
      "source": [
        "### Tip 2 - Tab Completion\n",
        "\n",
        "Well, I was going to add a section about how to use the \\<TAB\\> key to autocomplete, but it appears that Colab already has that feature built into the editor.\n",
        "\n",
        "Just in case, try the command \n",
        "\n",
        "?>v.\\<TAB\\> \n",
        "\n",
        "below:"
      ]
    },
    {
      "cell_type": "code",
      "metadata": {
        "id": "kv6TjozhJKM3",
        "colab_type": "code",
        "colab": {}
      },
      "source": [
        ""
      ],
      "execution_count": 0,
      "outputs": []
    },
    {
      "cell_type": "markdown",
      "metadata": {
        "id": "GF9tGhNWK07S",
        "colab_type": "text"
      },
      "source": [
        "### Tip 3 - Magic Commands\n",
        "\n",
        "No really, they are called magic because they start with a '%'\n",
        "\n",
        "One of the most useful commands that can be used to split up a large notebook is the %run magic command. Using it, you\n",
        "can run external python scripts or even IPython notebooks \n",
        "inside the context of the current notebook.\n",
        "\n",
        "An example of this can be found in the HSV-AI Bug Analysis notebook [here](https://colab.research.google.com/github/HSV-AI/bug-analysis/blob/master/Doc2Vec.ipynb)\n",
        "\n",
        "Two other very useful magic commands are **%time** and **%timeit**\n"
      ]
    },
    {
      "cell_type": "code",
      "metadata": {
        "id": "IYtien9FL4SR",
        "colab_type": "code",
        "colab": {}
      },
      "source": [
        "# Using an example directly from VanderPlas:\n",
        "print(\"Here's the output of the %timeit command:\")\n",
        "%timeit L = [n ** 2 for n in range(1000)]\n",
        "\n",
        "print(\"\\nHere's the output of the %time command:\")\n",
        "%time  L = [n ** 2 for n in range(1000)]"
      ],
      "execution_count": 0,
      "outputs": []
    },
    {
      "cell_type": "markdown",
      "metadata": {
        "id": "5XEEjJL7NuTY",
        "colab_type": "text"
      },
      "source": [
        "### Tip 4 - Suppressing Output\n",
        "\n",
        "Jupyter will send the result of the last command from a cell to the output. Sometimes you just want it to stay quiet though - especically if you are generating plots and other items that do not need the ouput text inserted.\n",
        "\n",
        "In order to suppress the output, just end the line with a ';'"
      ]
    },
    {
      "cell_type": "code",
      "metadata": {
        "id": "f3kDLxQIOISR",
        "colab_type": "code",
        "colab": {}
      },
      "source": [
        "# This code has output\n",
        "p1 = 'This little piggy had roast beef'\n",
        "p1"
      ],
      "execution_count": 0,
      "outputs": []
    },
    {
      "cell_type": "code",
      "metadata": {
        "id": "HQbnhFDtORM5",
        "colab_type": "code",
        "colab": {}
      },
      "source": [
        "# This code does not have output\n",
        "p2 = 'This little piggy had none'\n",
        "p2;"
      ],
      "execution_count": 0,
      "outputs": []
    },
    {
      "cell_type": "markdown",
      "metadata": {
        "id": "8GDXO9yFOn54",
        "colab_type": "text"
      },
      "source": [
        "### Tip 5 - %history Magic\n",
        "\n",
        "This particular piece of magic is very helpful when you may have run cells out of order and are trying to troubleshoot what happened in what order."
      ]
    },
    {
      "cell_type": "code",
      "metadata": {
        "id": "xQIc8VxqOkZf",
        "colab_type": "code",
        "colab": {}
      },
      "source": [
        "%history"
      ],
      "execution_count": 0,
      "outputs": []
    },
    {
      "cell_type": "markdown",
      "metadata": {
        "id": "_CnXfWNcKuAH",
        "colab_type": "text"
      },
      "source": [
        "### Tip 6- Shell Commands\n",
        "\n",
        "Most Linux shell commands are available from the Jupyter notebook as well. One good example is shown below and sets us up to start doing some data analysis."
      ]
    },
    {
      "cell_type": "code",
      "metadata": {
        "id": "-R0wLdL7EU5F",
        "colab_type": "code",
        "colab": {}
      },
      "source": [
        "!wget https://data.nasa.gov/api/views/gh4g-9sfh/rows.csv"
      ],
      "execution_count": 0,
      "outputs": []
    },
    {
      "cell_type": "markdown",
      "metadata": {
        "id": "CRceWpEg3iQA",
        "colab_type": "text"
      },
      "source": [
        "## NASA Data\n",
        "\n",
        "The data that we will be analyzing is described [HERE](https://data.nasa.gov/Space-Science/Meteorite-Landings/gh4g-9sfh)\n",
        "\n",
        "This comprehensive data set from The Meteoritical Society contains information on all of the known meteorite landings. The Fusion Table is collected by Javier de la Torre and we've also provided an XLS file that consists of 34,513 meteorites."
      ]
    },
    {
      "cell_type": "markdown",
      "metadata": {
        "id": "xisxPl98Quab",
        "colab_type": "text"
      },
      "source": [
        "## Pandas Dataframes\n",
        "\n",
        "[https://pandas.pydata.org/](https://pandas.pydata.org/)\n",
        "\n",
        "pandas is an open source, BSD-licensed library providing high-performance, easy-to-use data structures and data analysis tools for the Python programming language.\n",
        "\n",
        "Pandas datafames are a great way to work with tabular data.\n",
        "\n",
        "There are several ways to load a dataframe from common file formats like json and csv.\n"
      ]
    },
    {
      "cell_type": "code",
      "metadata": {
        "id": "gcZNyAN5Qxbn",
        "colab_type": "code",
        "colab": {}
      },
      "source": [
        "import pandas as pd\n",
        "import numpy as np\n",
        "import matplotlib.pyplot as plt\n",
        "\n",
        "df = pd.read_csv('rows.csv')\n",
        "\n",
        "# Now let's look at the columns available in the dataframe\n",
        "print(df.columns)\n",
        "print(df.dtypes)"
      ],
      "execution_count": 0,
      "outputs": []
    },
    {
      "cell_type": "code",
      "metadata": {
        "id": "FXXR5eb6hY5j",
        "colab_type": "code",
        "colab": {}
      },
      "source": [
        "# We can also get an idea of the data by using the head function\n",
        "df.head"
      ],
      "execution_count": 0,
      "outputs": []
    },
    {
      "cell_type": "markdown",
      "metadata": {
        "id": "JeiPRtQv4_Jp",
        "colab_type": "text"
      },
      "source": [
        "## Dataframe copy vs view\n",
        "\n",
        "One thing to keep in mind when working with Pandas is the behavior differences with working with a copy of a dataframe vs a view/reference of a dataframe.\n",
        "\n",
        "Working with a copy keeps your changes separate, but causes more memory overhead than working with a view."
      ]
    },
    {
      "cell_type": "code",
      "metadata": {
        "id": "0gmzEN53hx5x",
        "colab_type": "code",
        "colab": {}
      },
      "source": [
        "# We can copy columns of the dataframe into a new dataframe\n",
        "df_copy = df[['name', 'id']]\n",
        "\n",
        "df_copy.head"
      ],
      "execution_count": 0,
      "outputs": []
    },
    {
      "cell_type": "code",
      "metadata": {
        "id": "NXFvXZOpfaxZ",
        "colab_type": "code",
        "colab": {}
      },
      "source": [
        "# We can see that these two items point to different memory addresses\n",
        "\n",
        "print(id(df))\n",
        "print(id(df_copy))"
      ],
      "execution_count": 0,
      "outputs": []
    },
    {
      "cell_type": "code",
      "metadata": {
        "id": "ZTIoWlW_jVls",
        "colab_type": "code",
        "colab": {}
      },
      "source": [
        "# Changes to the copy do not affect the original\n",
        "df_copy['id'] = 0\n",
        "\n",
        "print(df_copy.head)\n",
        "\n",
        "print(df.head)"
      ],
      "execution_count": 0,
      "outputs": []
    },
    {
      "cell_type": "code",
      "metadata": {
        "id": "g2mjql5ORI1g",
        "colab_type": "code",
        "colab": {}
      },
      "source": [
        "# We can also create a view of the dataframe\n",
        "df_view = df.iloc[:,:]\n",
        "\n",
        "print(id(df_view))\n",
        "print(id(df))"
      ],
      "execution_count": 0,
      "outputs": []
    },
    {
      "cell_type": "code",
      "metadata": {
        "id": "NBZuXL3Hf0tH",
        "colab_type": "code",
        "colab": {}
      },
      "source": [
        "# Changes to the view also update the dataframe\n",
        "df_view.iloc[:, 1] = 0\n",
        "\n",
        "print(df_view.head)\n",
        "\n",
        "print(df.head)"
      ],
      "execution_count": 0,
      "outputs": []
    },
    {
      "cell_type": "markdown",
      "metadata": {
        "id": "5bhAo3ha5W8z",
        "colab_type": "text"
      },
      "source": [
        "## Updating values in a Dataframe"
      ]
    },
    {
      "cell_type": "code",
      "metadata": {
        "id": "UfPuf7oGjzG-",
        "colab_type": "code",
        "colab": {}
      },
      "source": [
        "df.year"
      ],
      "execution_count": 0,
      "outputs": []
    },
    {
      "cell_type": "code",
      "metadata": {
        "id": "0V0JxzIGhDW-",
        "colab_type": "code",
        "colab": {}
      },
      "source": [
        "\n",
        "def updateDate(x):\n",
        "  if isinstance(x, float):\n",
        "    return int(0)\n",
        "  else:\n",
        "    return int(x[6:10])\n",
        "  \n",
        "df.year = df.year.apply(lambda x: updateDate(x))\n"
      ],
      "execution_count": 0,
      "outputs": []
    },
    {
      "cell_type": "code",
      "metadata": {
        "id": "xzKDtzUsuK15",
        "colab_type": "code",
        "colab": {}
      },
      "source": [
        "df.year"
      ],
      "execution_count": 0,
      "outputs": []
    },
    {
      "cell_type": "code",
      "metadata": {
        "id": "rXQEnCogvjp4",
        "colab_type": "code",
        "colab": {}
      },
      "source": [
        "df = df[df.year > 0]"
      ],
      "execution_count": 0,
      "outputs": []
    },
    {
      "cell_type": "markdown",
      "metadata": {
        "id": "vSFt5EQZ2MsW",
        "colab_type": "text"
      },
      "source": [
        "## Matplotib\n",
        "\n",
        "[https://matplotlib.org/](https://matplotlib.org/)\n",
        "\n",
        "Matplotlib is a Python 2D plotting library which produces publication quality figures in a variety of hardcopy formats and interactive environments across platforms. Matplotlib can be used in Python scripts, the Python and IPython shells, the Jupyter notebook, web application servers, and four graphical user interface toolkits."
      ]
    },
    {
      "cell_type": "code",
      "metadata": {
        "id": "WigMwnTSSfY6",
        "colab_type": "code",
        "colab": {}
      },
      "source": [
        "grouped = df.loc[:,['id','year']].groupby('year').count()\n",
        "grouped.columns = ['count']\n",
        "grouped.sort_values(by='year').plot(kind='bar', figsize=(15,10))\n",
        "plt.show()"
      ],
      "execution_count": 0,
      "outputs": []
    },
    {
      "cell_type": "code",
      "metadata": {
        "id": "VNunHE42vFoO",
        "colab_type": "code",
        "colab": {}
      },
      "source": [
        "grouped = df.loc[:,['mass (g)','year']].groupby('year').mean()\n",
        "grouped.columns = ['avg']\n",
        "grouped.sort_values(by='year').plot(kind='bar', figsize=(15,10))\n",
        "plt.show()"
      ],
      "execution_count": 0,
      "outputs": []
    }
  ]
}