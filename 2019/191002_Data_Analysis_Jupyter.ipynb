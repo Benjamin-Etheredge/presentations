{
  "nbformat": 4,
  "nbformat_minor": 0,
  "metadata": {
    "colab": {
      "name": "191002_Data_Analysis_Jupyter.ipynb",
      "provenance": [],
      "include_colab_link": true
    },
    "kernelspec": {
      "name": "python3",
      "display_name": "Python 3"
    }
  },
  "cells": [
    {
      "cell_type": "markdown",
      "metadata": {
        "id": "view-in-github",
        "colab_type": "text"
      },
      "source": [
        "<a href=\"https://colab.research.google.com/github/HSV-AI/presentations/blob/master/2019/191002_Data_Analysis_Jupyter.ipynb\" target=\"_parent\"><img src=\"https://colab.research.google.com/assets/colab-badge.svg\" alt=\"Open In Colab\"/></a>"
      ]
    },
    {
      "cell_type": "markdown",
      "metadata": {
        "id": "za-oTckAGPK5",
        "colab_type": "text"
      },
      "source": [
        "# Analyzing Data with Jupyter Notebook\n",
        "\n",
        "This notebook is based in part on the Data Science Handbook by Jake VanderPlas that you can find [here](https://colab.research.google.com/github/jakevdp/PythonDataScienceHandbook/blob/master/notebooks/Index.ipynb)\n",
        "\n"
      ]
    },
    {
      "cell_type": "markdown",
      "metadata": {
        "id": "gUwRN2KvH057",
        "colab_type": "text"
      },
      "source": [
        "## Tip 1\n",
        "\n",
        "You can use the ? character at the end of a function or type to access the help for that function or type."
      ]
    },
    {
      "cell_type": "code",
      "metadata": {
        "id": "lJTd6ksBG-x5",
        "colab_type": "code",
        "colab": {}
      },
      "source": [
        "# Let's create a list and see how to get the length\n",
        "v = [1.0, 2.0, 3.0]\n",
        "len?"
      ],
      "execution_count": 0,
      "outputs": []
    },
    {
      "cell_type": "code",
      "metadata": {
        "id": "MXi6H5VAICiO",
        "colab_type": "code",
        "colab": {
          "base_uri": "https://localhost:8080/",
          "height": 34
        },
        "outputId": "024519c5-b60d-40ca-f378-09ebfc4856ff"
      },
      "source": [
        "len(v)"
      ],
      "execution_count": 6,
      "outputs": [
        {
          "output_type": "execute_result",
          "data": {
            "text/plain": [
              "3"
            ]
          },
          "metadata": {
            "tags": []
          },
          "execution_count": 6
        }
      ]
    },
    {
      "cell_type": "code",
      "metadata": {
        "id": "sttwBBxTIPHr",
        "colab_type": "code",
        "colab": {}
      },
      "source": [
        "# We can even get information about the list itself:\n",
        "v?"
      ],
      "execution_count": 0,
      "outputs": []
    },
    {
      "cell_type": "code",
      "metadata": {
        "id": "9dz5PQIgIZ5c",
        "colab_type": "code",
        "colab": {}
      },
      "source": [
        "# Let's create a function with a helpful description\n",
        "def empty_function():\n",
        "  \"\"\"This is just an empty function. Please don't call it.\"\"\"\n",
        "  return 1"
      ],
      "execution_count": 0,
      "outputs": []
    },
    {
      "cell_type": "code",
      "metadata": {
        "id": "JLegzO6FIlub",
        "colab_type": "code",
        "colab": {}
      },
      "source": [
        "# Now the description is available by asking for help\n",
        "empty_function?"
      ],
      "execution_count": 0,
      "outputs": []
    },
    {
      "cell_type": "code",
      "metadata": {
        "id": "AlqzP97UIqwi",
        "colab_type": "code",
        "colab": {}
      },
      "source": [
        "# Two question marks will display the source for the function\n",
        "empty_function??"
      ],
      "execution_count": 0,
      "outputs": []
    },
    {
      "cell_type": "markdown",
      "metadata": {
        "id": "1hrks5SxJSFD",
        "colab_type": "text"
      },
      "source": [
        "## Tip 2 - Tab Completion\n",
        "\n",
        "Well, I was going to add a section about how to use the \\<TAB\\> key to autocomplete, but it appears that Colab already has that feature built into the editor.\n",
        "\n",
        "Just in case, try the command \n",
        "\n",
        "?>v.\\<TAB\\> \n",
        "\n",
        "below:"
      ]
    },
    {
      "cell_type": "code",
      "metadata": {
        "id": "kv6TjozhJKM3",
        "colab_type": "code",
        "colab": {}
      },
      "source": [
        ""
      ],
      "execution_count": 0,
      "outputs": []
    },
    {
      "cell_type": "markdown",
      "metadata": {
        "id": "GF9tGhNWK07S",
        "colab_type": "text"
      },
      "source": [
        "## Tip 3 - Magic Commands\n",
        "\n",
        "No really, they are called magic because they start with a '%'\n",
        "\n",
        "One of the most useful commands that can be used to split up a large notebook is the %run magic command.\n",
        "\n",
        "An example of this can be found in the HSV-AI Bug Analysis notebook [here](https://colab.research.google.com/github/HSV-AI/bug-analysis/blob/master/Doc2Vec.ipynb)\n",
        "\n",
        "Two other very useful magic commands are **%time** and **%timeit**\n"
      ]
    },
    {
      "cell_type": "code",
      "metadata": {
        "id": "IYtien9FL4SR",
        "colab_type": "code",
        "colab": {}
      },
      "source": [
        ""
      ],
      "execution_count": 0,
      "outputs": []
    },
    {
      "cell_type": "markdown",
      "metadata": {
        "id": "_CnXfWNcKuAH",
        "colab_type": "text"
      },
      "source": [
        "## Tip - !wget"
      ]
    },
    {
      "cell_type": "code",
      "metadata": {
        "id": "-R0wLdL7EU5F",
        "colab_type": "code",
        "outputId": "f1375554-4f57-4991-ab7e-eb3c3ea7f416",
        "colab": {
          "base_uri": "https://localhost:8080/",
          "height": 202
        }
      },
      "source": [
        "!wget https://data.nasa.gov/api/views/gh4g-9sfh/rows.csv"
      ],
      "execution_count": 2,
      "outputs": [
        {
          "output_type": "stream",
          "text": [
            "--2019-10-02 01:30:24--  https://data.nasa.gov/api/views/gh4g-9sfh/rows.csv\n",
            "Resolving data.nasa.gov (data.nasa.gov)... 128.102.186.77, 2001:4d0:6311:2c05:60b0:5ad8:1210:ea07\n",
            "Connecting to data.nasa.gov (data.nasa.gov)|128.102.186.77|:443... connected.\n",
            "HTTP request sent, awaiting response... 200 OK\n",
            "Length: unspecified [text/csv]\n",
            "Saving to: ‘rows.csv’\n",
            "\n",
            "rows.csv                [     <=>            ]   4.55M  4.59MB/s    in 1.0s    \n",
            "\n",
            "2019-10-02 01:30:25 (4.59 MB/s) - ‘rows.csv’ saved [4769811]\n",
            "\n"
          ],
          "name": "stdout"
        }
      ]
    }
  ]
}