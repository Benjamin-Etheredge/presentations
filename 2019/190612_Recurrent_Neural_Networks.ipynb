{
  "nbformat": 4,
  "nbformat_minor": 0,
  "metadata": {
    "colab": {
      "name": "190612_Recurrent_Neural_Networks.ipynb",
      "version": "0.3.2",
      "provenance": [],
      "toc_visible": true
    },
    "language_info": {
      "codemirror_mode": {
        "name": "ipython",
        "version": 3
      },
      "file_extension": ".py",
      "mimetype": "text/x-python",
      "name": "python",
      "nbconvert_exporter": "python",
      "pygments_lexer": "ipython3",
      "version": "3.6.3"
    },
    "kernelspec": {
      "display_name": "Python 3",
      "language": "python",
      "name": "python3"
    }
  },
  "cells": [
    {
      "cell_type": "markdown",
      "metadata": {
        "id": "lWgPgf5KfKYi",
        "colab_type": "text"
      },
      "source": [
        "# Recurrent Neural Networks\n",
        "\n",
        "Huntsville-AI 06/12/2019\n",
        "\n",
        "## From WikiPedia:\n",
        "\n",
        "A recurrent neural network (RNN) is a class of artificial neural network where connections between nodes form a directed graph along a temporal sequence. This allows it to exhibit temporal dynamic behavior. Unlike feedforward neural networks, RNNs can use their internal state (memory) to process sequences of inputs. This makes them applicable to tasks such as unsegmented, connected handwriting recognition or speech recognition."
      ]
    },
    {
      "cell_type": "markdown",
      "metadata": {
        "id": "W3zyrt-TQhf-",
        "colab_type": "text"
      },
      "source": [
        "From [Understanding LSTM...](https://towardsdatascience.com/understanding-lstm-and-its-quick-implementation-in-keras-for-sentiment-analysis-af410fd85b47)\n",
        "\n",
        "Here's an overall look at what an RNN architecture looks like:\n",
        "\n",
        "![alt text](https://cdn-images-1.medium.com/max/800/1*DvlB9rtndUHwtri4E2P-bg.png)\n",
        "\n",
        "If we unroll the layer into its pieces we get:\n",
        "\n",
        "![alt text](https://cdn-images-1.medium.com/max/800/1*xTKE0g6XNMLM8IQ4aFdP0w.png)\n",
        "\n",
        "\n"
      ]
    },
    {
      "cell_type": "code",
      "metadata": {
        "id": "7GZWq-WFfKYn",
        "colab_type": "code",
        "colab": {}
      },
      "source": [
        ""
      ],
      "execution_count": 0,
      "outputs": []
    }
  ]
}