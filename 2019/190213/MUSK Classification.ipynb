{
 "cells": [
  {
   "cell_type": "markdown",
   "metadata": {},
   "source": [
    "# Classification with Scikit-Learn\n",
    "\n",
    "This notebook is a walkthrough of different classification approaches provided by the Scikit-Learn library.\n",
    "\n",
    "The dataset that we will use for this example was provided by the UCI Machine Learning Repository and can be found here: <a href=\"https://archive.ics.uci.edu/ml/datasets/Musk+(Version+2)\">Musk (Version 2) Data Set</a>\n",
    "\n",
    "## From the description:\n",
    "\n",
    "### Data Set Information:\n",
    "\n",
    "This dataset describes a set of 102 molecules of which 39 are judged by human experts to be musks and the remaining 63 molecules are judged to be non-musks. The goal is to learn to predict whether new molecules will be musks or non-musks. However, the 166 features that describe these molecules depend upon the exact shape, or conformation, of the molecule. Because bonds can rotate, a single molecule can adopt many different shapes. To generate this data set, all the low-energy conformations of the molecules were generated to produce 6,598 conformations. Then, a feature vector was extracted that describes each conformation. \n",
    "\n",
    "This many-to-one relationship between feature vectors and molecules is called the \"multiple instance problem\". When learning a classifier for this data, the classifier should classify a molecule as \"musk\" if ANY of its conformations is classified as a musk. A molecule should be classified as \"non-musk\" if NONE of its conformations is classified as a musk.\n",
    "\n",
    "\n",
    "## Loading data\n",
    "\n",
    "First we will load this data from the csv file into a Pandas dataframe and get a look at it.\n",
    "\n",
    "You can see that by using a 0 based index, the features are in columns 3-168 and the class is in column 169.\n"
   ]
  },
  {
   "cell_type": "code",
   "execution_count": null,
   "metadata": {
    "scrolled": true
   },
   "outputs": [],
   "source": [
    "import pandas as pd\n",
    "import matplotlib.pyplot as plt\n",
    "import numpy as np\n",
    "from sklearn import metrics\n",
    "\n",
    "df = pd.read_csv(\"data/musk_csv.csv\") \n",
    "# Preview the first 5 lines of the loaded data \n",
    "df.head()"
   ]
  },
  {
   "cell_type": "code",
   "execution_count": null,
   "metadata": {
    "scrolled": true
   },
   "outputs": [],
   "source": [
    "print(\"Total number of rows: %d\" % len(df))\n",
    "print(\"Breakdown by class:\")\n",
    "print(df.groupby('class').size())"
   ]
  },
  {
   "cell_type": "markdown",
   "metadata": {},
   "source": [
    "## Training & Validation\n",
    "\n",
    "Before we start looking at different methods for classification, we need to split this data into a training set and a validation set. The problem is that if we train using all of the data, we do not have an independent way of testing the accuracy of the model.\n",
    "\n",
    "Luckily, scikit-learn provides an easy way to do this: [train_test_split](https://scikit-learn.org/stable/modules/generated/sklearn.model_selection.train_test_split.html)\n",
    "\n",
    "First, we will slice the original dataframe to create a dataframe with only the 166 attributes, and another with only the classes."
   ]
  },
  {
   "cell_type": "code",
   "execution_count": null,
   "metadata": {
    "scrolled": true
   },
   "outputs": [],
   "source": [
    "from sklearn.model_selection import train_test_split\n",
    "\n",
    "X = df.iloc[:,3:169]\n",
    "y = df.iloc[:, 169]\n",
    "Xtrain, Xtest, ytrain, ytest = train_test_split(X, y, test_size=.25)\n",
    "\n",
    "chance = 0.5 ** 10 * 100\n",
    "print(\"Chance of hittings heads ten times in a row: \" + str(chance))\n",
    "print(y.mean())\n",
    "print(ytrain.mean())\n",
    "\n"
   ]
  },
  {
   "cell_type": "markdown",
   "metadata": {},
   "source": [
    "## Classifier Testing Approach\n",
    "\n",
    "Now that we have the data ready for training and validation, we can start working through the different classifiers provided by scikit-learn. To do that, we will look at two primary measurements of each classifier:\n",
    "1. Accuracy - what percentage of the overal set did the model classify correctly\n",
    "2. Confusion Matrix - which classes were classified correctly, and which were classified as the opposite\n",
    "\n",
    "Here is a great write-up for a [Confusion Matrix](https://www.dataschool.io/simple-guide-to-confusion-matrix-terminology/)\n",
    "\n",
    "A good place to start for finding a list of classifiers is [here](https://scikit-learn.org/stable/auto_examples/classification/plot_classifier_comparison.html)\n"
   ]
  },
  {
   "cell_type": "markdown",
   "metadata": {},
   "source": [
    "## Support Vector Machine\n",
    "\n",
    "The first classifier that we will look at is the [Support Vector Classifier](https://scikit-learn.org/stable/modules/generated/sklearn.svm.SVC.html)\n",
    "\n",
    "This can be used with several different kernel types. We will start with the default 'rbf'"
   ]
  },
  {
   "cell_type": "code",
   "execution_count": null,
   "metadata": {
    "scrolled": true
   },
   "outputs": [],
   "source": [
    "from sklearn.svm import SVC  # \"Support Vector Classifier\"\n",
    "clf = SVC(kernel='rbf', gamma='scale')\n",
    "clf.fit(Xtrain, ytrain)\n",
    "ypred = clf.predict(Xtest)\n",
    "print(\"Accuracy: %f\\n\" % metrics.accuracy_score(ypred, ytest))\n",
    "\n",
    "confusion_matrix = metrics.confusion_matrix(ypred, ytest)\n",
    "print(\"Confusion Matrix: \")\n",
    "print(confusion_matrix)\n",
    "print()\n",
    "\n",
    "plt.imshow(confusion_matrix,\n",
    "           interpolation='nearest', cmap=plt.cm.binary)\n",
    "plt.grid(False)\n",
    "plt.colorbar()\n",
    "plt.xlabel(\"predicted label\")\n",
    "plt.ylabel(\"true label\");\n"
   ]
  },
  {
   "cell_type": "markdown",
   "metadata": {},
   "source": [
    "## Support Vector Machine\n",
    "\n",
    "Next we will try the linear classifier. Note - this takes a long time..."
   ]
  },
  {
   "cell_type": "code",
   "execution_count": 39,
   "metadata": {
    "scrolled": true
   },
   "outputs": [
    {
     "name": "stdout",
     "output_type": "stream",
     "text": [
      "CPU times: user 2h 15min 33s, sys: 97.1 ms, total: 2h 15min 34s\n",
      "Wall time: 2h 15min 33s\n",
      "Accuracy: 0.949697\n",
      "\n",
      "Confusion Matrix: \n",
      "[[1366   54]\n",
      " [  29  201]]\n",
      "\n"
     ]
    },
    {
     "data": {
      "image/png": "[encoded data removed]",
      "text/plain": [
       "<matplotlib.figure.Figure at 0x7f0f7861d320>"
      ]
     },
     "metadata": {},
     "output_type": "display_data"
    }
   ],
   "source": [
    "# from sklearn.svm import SVC  # \"Support Vector Classifier\"\n",
    "# clf = SVC(kernel='linear', gamma='scale')\n",
    "# %time clf.fit(Xtrain, ytrain)\n",
    "# ypred = clf.predict(Xtest)\n",
    "# print(\"Accuracy: %f\\n\" % metrics.accuracy_score(ypred, ytest))\n",
    "\n",
    "# confusion_matrix = metrics.confusion_matrix(ypred, ytest)\n",
    "# print(\"Confusion Matrix: \")\n",
    "# print(confusion_matrix)\n",
    "# print()\n",
    "\n",
    "# plt.imshow(confusion_matrix,\n",
    "#            interpolation='nearest', cmap=plt.cm.binary)\n",
    "# plt.grid(False)\n",
    "# plt.colorbar()\n",
    "# plt.xlabel(\"predicted label\")\n",
    "# plt.ylabel(\"true label\");\n"
   ]
  },
  {
   "cell_type": "markdown",
   "metadata": {},
   "source": [
    "## Decision Tree Classifier\n",
    "\n",
    "The next classifier that we will look at is the [Decision Tree Classifier](https://scikit-learn.org/stable/modules/generated/sklearn.tree.DecisionTreeClassifier.html).\n",
    "\n"
   ]
  },
  {
   "cell_type": "code",
   "execution_count": null,
   "metadata": {
    "scrolled": true
   },
   "outputs": [],
   "source": [
    "from sklearn.tree import DecisionTreeClassifier\n",
    "dtc = DecisionTreeClassifier()\n",
    "dtc.fit(Xtrain, ytrain)\n",
    "ypred = dtc.predict(Xtest)\n",
    "print(\"Accuracy: %f\\n\" % metrics.accuracy_score(ypred, ytest))\n",
    "\n",
    "confusion_matrix = metrics.confusion_matrix(ypred, ytest)\n",
    "print(\"Confusion Matrix: \")\n",
    "print(confusion_matrix)\n",
    "print()\n",
    "\n",
    "plt.imshow(confusion_matrix,\n",
    "           interpolation='nearest', cmap=plt.cm.binary)\n",
    "plt.grid(False)\n",
    "plt.colorbar()\n",
    "plt.xlabel(\"predicted label\")\n",
    "plt.ylabel(\"true label\");\n"
   ]
  },
  {
   "cell_type": "markdown",
   "metadata": {},
   "source": [
    "## Random Forest Classifier\n",
    "\n",
    "The next classifier that we will look at is the [Random Forest Classifier](https://scikit-learn.org/stable/modules/generated/sklearn.ensemble.RandomForestClassifier.html)\n"
   ]
  },
  {
   "cell_type": "code",
   "execution_count": null,
   "metadata": {
    "scrolled": true
   },
   "outputs": [],
   "source": [
    "from sklearn.ensemble import RandomForestClassifier\n",
    "rfc = RandomForestClassifier(n_estimators=100, random_state=0)\n",
    "rfc.fit(Xtrain, ytrain)\n",
    "ypred = rfc.predict(Xtest)\n",
    "print(\"Accuracy: %f\\n\" % metrics.accuracy_score(ypred, ytest))\n",
    "\n",
    "confusion_matrix = metrics.confusion_matrix(ypred, ytest)\n",
    "print(\"Confusion Matrix: \")\n",
    "print(confusion_matrix)\n",
    "print()\n",
    "\n",
    "plt.imshow(confusion_matrix,\n",
    "           interpolation='nearest', cmap=plt.cm.binary)\n",
    "plt.grid(False)\n",
    "plt.colorbar()\n",
    "plt.xlabel(\"predicted label\")\n",
    "plt.ylabel(\"true label\");"
   ]
  },
  {
   "cell_type": "markdown",
   "metadata": {},
   "source": [
    "## AdaBoost Classifier\n",
    "\n",
    "How about an [AdaBoost Classifier](https://scikit-learn.org/stable/modules/generated/sklearn.ensemble.AdaBoostClassifier.html#sklearn.ensemble.AdaBoostClassifier)\n"
   ]
  },
  {
   "cell_type": "code",
   "execution_count": null,
   "metadata": {
    "scrolled": true
   },
   "outputs": [],
   "source": [
    "from sklearn.ensemble import AdaBoostClassifier\n",
    "abc = AdaBoostClassifier(random_state=0)\n",
    "abc.fit(Xtrain, ytrain)\n",
    "ypred = abc.predict(Xtest)\n",
    "print(\"Accuracy: %f\\n\" % metrics.accuracy_score(ypred, ytest))\n",
    "\n",
    "confusion_matrix = metrics.confusion_matrix(ypred, ytest)\n",
    "print(\"Confusion Matrix: \")\n",
    "print(confusion_matrix)\n",
    "print()\n",
    "\n",
    "plt.imshow(confusion_matrix,\n",
    "           interpolation='nearest', cmap=plt.cm.binary)\n",
    "plt.grid(False)\n",
    "plt.colorbar()\n",
    "plt.xlabel(\"predicted label\")\n",
    "plt.ylabel(\"true label\");"
   ]
  },
  {
   "cell_type": "markdown",
   "metadata": {},
   "source": [
    "## Gaussian Naive Bayes\n",
    "\n",
    "Did someone say \"[Gaussian Naive Bays](https://scikit-learn.org/stable/modules/generated/sklearn.naive_bayes.GaussianNB.html#sklearn.naive_bayes.GaussianNB)\"?"
   ]
  },
  {
   "cell_type": "code",
   "execution_count": null,
   "metadata": {
    "scrolled": true
   },
   "outputs": [],
   "source": [
    "from sklearn.naive_bayes import GaussianNB\n",
    "gnb = GaussianNB()\n",
    "gnb.fit(Xtrain, ytrain)\n",
    "ypred = gnb.predict(Xtest)\n",
    "print(\"Accuracy: %f\\n\" % metrics.accuracy_score(ypred, ytest))\n",
    "\n",
    "confusion_matrix = metrics.confusion_matrix(ypred, ytest)\n",
    "print(\"Confusion Matrix: \")\n",
    "print(confusion_matrix)\n",
    "print()\n",
    "\n",
    "plt.imshow(confusion_matrix,\n",
    "           interpolation='nearest', cmap=plt.cm.binary)\n",
    "plt.grid(False)\n",
    "plt.colorbar()\n",
    "plt.xlabel(\"predicted label\")\n",
    "plt.ylabel(\"true label\");"
   ]
  },
  {
   "cell_type": "markdown",
   "metadata": {},
   "source": [
    "## QuadraticDiscriminantAnalysis\n",
    "\n",
    "Everyone's favorite - [QuadraticDiscriminantAnalysis](https://scikit-learn.org/stable/modules/generated/sklearn.discriminant_analysis.QuadraticDiscriminantAnalysis.html#sklearn.discriminant_analysis.QuadraticDiscriminantAnalysis)"
   ]
  },
  {
   "cell_type": "code",
   "execution_count": null,
   "metadata": {
    "scrolled": true
   },
   "outputs": [],
   "source": [
    "from sklearn.discriminant_analysis import QuadraticDiscriminantAnalysis\n",
    "qda = QuadraticDiscriminantAnalysis()\n",
    "qda.fit(Xtrain, ytrain)\n",
    "ypred = qda.predict(Xtest)\n",
    "print(\"Accuracy: %f\\n\" % metrics.accuracy_score(ypred, ytest))\n",
    "\n",
    "confusion_matrix = metrics.confusion_matrix(ypred, ytest)\n",
    "print(\"Confusion Matrix: \")\n",
    "print(confusion_matrix)\n",
    "print()\n",
    "\n",
    "plt.imshow(confusion_matrix,\n",
    "           interpolation='nearest', cmap=plt.cm.binary)\n",
    "plt.grid(False)\n",
    "plt.colorbar()\n",
    "plt.xlabel(\"predicted label\")\n",
    "plt.ylabel(\"true label\");"
   ]
  },
  {
   "cell_type": "markdown",
   "metadata": {},
   "source": [
    "## K-Nearest Neighbors\n",
    "\n",
    "Will you be my [KNeighborsClassifier](https://scikit-learn.org/stable/modules/generated/sklearn.neighbors.KNeighborsClassifier.html#sklearn.neighbors.KNeighborsClassifier)?\n"
   ]
  },
  {
   "cell_type": "code",
   "execution_count": null,
   "metadata": {
    "scrolled": true
   },
   "outputs": [],
   "source": [
    "from sklearn.neighbors import KNeighborsClassifier\n",
    "knc = KNeighborsClassifier()\n",
    "knc.fit(Xtrain, ytrain)\n",
    "ypred = knc.predict(Xtest)\n",
    "print(\"Accuracy: %f\\n\" % metrics.accuracy_score(ypred, ytest))\n",
    "\n",
    "confusion_matrix = metrics.confusion_matrix(ypred, ytest)\n",
    "print(\"Confusion Matrix: \")\n",
    "print(confusion_matrix)\n",
    "print()\n",
    "\n",
    "plt.imshow(confusion_matrix,\n",
    "           interpolation='nearest', cmap=plt.cm.binary)\n",
    "plt.grid(False)\n",
    "plt.colorbar()\n",
    "plt.xlabel(\"predicted label\")\n",
    "plt.ylabel(\"true label\");"
   ]
  },
  {
   "cell_type": "markdown",
   "metadata": {},
   "source": [
    "## Multi-Layer Perceptron Classifier\n",
    "\n",
    "We can't have AI without [MLPClassifier](https://scikit-learn.org/stable/modules/generated/sklearn.neural_network.MLPClassifier.html#sklearn.neural_network.MLPClassifier)\n",
    "\n"
   ]
  },
  {
   "cell_type": "code",
   "execution_count": null,
   "metadata": {
    "scrolled": true
   },
   "outputs": [],
   "source": [
    "from sklearn.neural_network import MLPClassifier\n",
    "mlp = MLPClassifier()\n",
    "mlp.fit(Xtrain, ytrain)\n",
    "ypred = mlp.predict(Xtest)\n",
    "print(\"Accuracy: %f\\n\" % metrics.accuracy_score(ypred, ytest))\n",
    "\n",
    "confusion_matrix = metrics.confusion_matrix(ypred, ytest)\n",
    "print(\"Confusion Matrix: \")\n",
    "print(confusion_matrix)\n",
    "print()\n",
    "\n",
    "plt.imshow(confusion_matrix,\n",
    "           interpolation='nearest', cmap=plt.cm.binary)\n",
    "plt.grid(False)\n",
    "plt.colorbar()\n",
    "plt.xlabel(\"predicted label\")\n",
    "plt.ylabel(\"true label\");"
   ]
  },
  {
   "cell_type": "markdown",
   "metadata": {},
   "source": [
    "## Dimensionality Reduction\n",
    "\n",
    "Do we really need 166 attributes to be able to classify molecules as MUSK / NON-MUSK?\n",
    "\n",
    "Are any of these attributes dependent on others?\n",
    "\n",
    "We can use [Primary Component Analysis](https://scikit-learn.org/stable/modules/generated/sklearn.decomposition.PCA.html) to give us a bit more information. First let's look at the explained variance ratio of the attributes (components) across the entire dataframe."
   ]
  },
  {
   "cell_type": "code",
   "execution_count": null,
   "metadata": {
    "scrolled": true
   },
   "outputs": [],
   "source": [
    "from sklearn.decomposition import PCA\n",
    "\n",
    "pca = PCA().fit(X)\n",
    "plt.plot(np.cumsum(pca.explained_variance_ratio_))\n",
    "plt.xlabel('number of components')\n",
    "plt.ylabel('cumulative explained variance');"
   ]
  },
  {
   "cell_type": "markdown",
   "metadata": {},
   "source": [
    "We can also use PCA to reduce the component count while keeping a percentage of the variance. The next step shows that 95% of the variance can be kept with only 35 components."
   ]
  },
  {
   "cell_type": "code",
   "execution_count": null,
   "metadata": {
    "scrolled": true
   },
   "outputs": [],
   "source": [
    "pca = PCA(0.95) # keep 95% of variance\n",
    "Xtotal_xform = pca.fit_transform(X)\n",
    "Xtrain_xform = pca.fit_transform(Xtrain)\n",
    "Xtest_xform = pca.transform(Xtest)\n",
    "print(X.shape)\n",
    "print(Xtotal_xform.shape)\n",
    "print(\"95% of the variance can be represented by \"+ str((Xtrain_xform.shape[1] / X.shape[1] * 100)) + \"% of the original components count!\")"
   ]
  },
  {
   "cell_type": "markdown",
   "metadata": {},
   "source": [
    "## Classification with Dimensionality Reduction\n",
    "\n",
    "Now let's try repeating the classification exercise with the reduced dimensionality dataframe."
   ]
  },
  {
   "cell_type": "code",
   "execution_count": null,
   "metadata": {
    "scrolled": true
   },
   "outputs": [],
   "source": [
    "from sklearn.tree import DecisionTreeClassifier\n",
    "dtc = DecisionTreeClassifier()\n",
    "dtc.fit(Xtrain_xform, ytrain)\n",
    "ypred = dtc.predict(Xtest_xform)\n",
    "print(\"Accuracy: %f\\n\" % metrics.accuracy_score(ypred, ytest))\n",
    "\n",
    "confusion_matrix = metrics.confusion_matrix(ypred, ytest)\n",
    "print(\"Confusion Matrix: \")\n",
    "print(confusion_matrix)\n",
    "print()\n",
    "\n",
    "plt.imshow(confusion_matrix,\n",
    "           interpolation='nearest', cmap=plt.cm.binary)\n",
    "plt.grid(False)\n",
    "plt.colorbar()\n",
    "plt.xlabel(\"predicted label\")\n",
    "plt.ylabel(\"true label\");\n"
   ]
  },
  {
   "cell_type": "markdown",
   "metadata": {},
   "source": [
    "## K-Fold Validation\n",
    "\n",
    "Initially, we have been splitting the data into a 75% training set and a 25% testing set by random sampling. This is commonly called \"Cross-validation\". \n",
    "\n",
    "From [Machine Learning Mastery](https://machinelearningmastery.com/k-fold-cross-validation/):\n",
    "Cross-validation is primarily used in applied machine learning to estimate the skill of a machine learning model on unseen data. That is, to use a limited sample in order to estimate how the model is expected to perform in general when used to make predictions on data not used during the training of the model.\n",
    "\n",
    "An additional approach is known as k-Fold Validation:\n",
    "The procedure has a single parameter called k that refers to the number of groups that a given data sample is to be split into. As such, the procedure is often called k-fold cross-validation. When a specific value for k is chosen, it may be used in place of k in the reference to the model, such as k=10 becoming 10-fold cross-validation."
   ]
  },
  {
   "cell_type": "code",
   "execution_count": null,
   "metadata": {
    "scrolled": true
   },
   "outputs": [],
   "source": [
    "# 2-fold cross-validation\n",
    "X1, X2, y1, y2 = train_test_split(X, y, test_size=0.5, random_state=0)\n",
    "X1.shape, X2.shape"
   ]
  },
  {
   "cell_type": "code",
   "execution_count": null,
   "metadata": {
    "scrolled": true
   },
   "outputs": [],
   "source": [
    "print(SVC(kernel='rbf', gamma='scale').fit(X2, y2).score(X1, y1))\n",
    "print(SVC(kernel='rbf', gamma='scale').fit(X1, y1).score(X2, y2))"
   ]
  },
  {
   "cell_type": "code",
   "execution_count": null,
   "metadata": {
    "scrolled": true
   },
   "outputs": [],
   "source": [
    "from sklearn.model_selection import cross_val_score\n",
    "cv = cross_val_score(SVC(kernel='rbf', gamma='scale'), X, y, cv=2)\n",
    "cv.mean()"
   ]
  },
  {
   "cell_type": "code",
   "execution_count": null,
   "metadata": {
    "scrolled": false
   },
   "outputs": [],
   "source": [
    "from sklearn.model_selection import learning_curve\n",
    "\n",
    "def plot_learning_curve(estimator):\n",
    "    train_sizes, train_scores, test_scores = learning_curve(estimator, X, y, cv=5)\n",
    "\n",
    "    # train_scores = result[0]\n",
    "    # valid_scores = result[1]\n",
    "    title = \"Learning Curves (\"+ type(estimator).__name__ + \")\"\n",
    "    plt.figure()\n",
    "    plt.title(title)\n",
    "    plt.xlabel(\"Training examples\")\n",
    "    plt.ylabel(\"Score\")\n",
    "    train_scores_mean = np.mean(train_scores, axis=1)\n",
    "    train_scores_std = np.std(train_scores, axis=1)\n",
    "    test_scores_mean = np.mean(test_scores, axis=1)\n",
    "    test_scores_std = np.std(test_scores, axis=1)\n",
    "    plt.grid()\n",
    "\n",
    "    plt.fill_between(train_sizes, train_scores_mean - train_scores_std,\n",
    "                     train_scores_mean + train_scores_std, alpha=0.1,\n",
    "                     color=\"r\")\n",
    "    plt.fill_between(train_sizes, test_scores_mean - test_scores_std,\n",
    "                     test_scores_mean + test_scores_std, alpha=0.1, color=\"g\")\n",
    "    plt.plot(train_sizes, train_scores_mean, 'o-', color=\"r\",\n",
    "             label=\"Training score\")\n",
    "    plt.plot(train_sizes, test_scores_mean, 'o-', color=\"g\",\n",
    "             label=\"Cross-validation score\")\n",
    "    plt.legend(loc=\"best\")\n",
    "    plt.show()\n",
    "\n",
    "plot_learning_curve(GaussianNB())\n",
    "# plot_learning_curve(SVC())\n",
    "plot_learning_curve(DecisionTreeClassifier())\n",
    "plot_learning_curve(RandomForestClassifier(n_estimators=100))\n",
    "plot_learning_curve(AdaBoostClassifier())\n",
    "plot_learning_curve(QuadraticDiscriminantAnalysis())\n",
    "# plot_learning_curve(KNeighborsClassifier())"
   ]
  },
  {
   "cell_type": "code",
   "execution_count": null,
   "metadata": {
    "scrolled": true
   },
   "outputs": [],
   "source": []
  }
 ],
 "metadata": {
  "kernelspec": {
   "display_name": "Python 3",
   "language": "python",
   "name": "python3"
  },
  "language_info": {
   "codemirror_mode": {
    "name": "ipython",
    "version": 3
   },
   "file_extension": ".py",
   "mimetype": "text/x-python",
   "name": "python",
   "nbconvert_exporter": "python",
   "pygments_lexer": "ipython3",
   "version": "3.6.4"
  }
 },
 "nbformat": 4,
 "nbformat_minor": 2
}
