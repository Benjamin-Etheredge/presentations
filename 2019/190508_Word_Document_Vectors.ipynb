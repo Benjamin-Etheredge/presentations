{
  "nbformat": 4,
  "nbformat_minor": 0,
  "metadata": {
    "colab": {
      "name": "190508_Word_Document_Vectors.ipynb",
      "version": "0.3.2",
      "provenance": [],
      "toc_visible": true
    },
    "language_info": {
      "codemirror_mode": {
        "name": "ipython",
        "version": 3
      },
      "file_extension": ".py",
      "mimetype": "text/x-python",
      "name": "python",
      "nbconvert_exporter": "python",
      "pygments_lexer": "ipython3",
      "version": "3.6.3"
    },
    "kernelspec": {
      "display_name": "Python 3",
      "language": "python",
      "name": "python3"
    }
  },
  "cells": [
    {
      "cell_type": "markdown",
      "metadata": {
        "id": "Z2LFFlyYzcxu",
        "colab_type": "text"
      },
      "source": [
        "# References\n",
        "\n",
        "https://github.com/stanfordnlp/GloVe\n",
        "\n",
        "https://github.com/fastai/word-embeddings-workshop\n",
        "\n",
        "https://towardsdatascience.com/lda2vec-word-embeddings-in-topic-models-4ee3fc4b2843\n",
        "\n",
        "https://multithreaded.stitchfix.com/blog/2016/05/27/lda2vec\n",
        "\n",
        "https://stackoverflow.com/questions/38287772/cbow-v-s-skip-gram-why-invert-context-and-target-words\n",
        "\n"
      ]
    },
    {
      "cell_type": "markdown",
      "metadata": {
        "id": "adWqxBR5zi5I",
        "colab_type": "text"
      },
      "source": [
        "# Papers\n",
        "\n",
        "* **2013** - *Distributed Representations of Words and Phrases and their Compositionality*\n",
        "Tomas Mikolov, Ilya Sutskever, Kai Chen, Greg Corrado, Jeffrey Dean -  https://papers.nips.cc/paper/5021-distributed-representations-of-words-and-phrases-and-their-compositionality.pdf\n",
        "\n",
        "* **2014** - *Distributed Representations of Sentences and Documents*\n",
        "Quoc V. Le, Tomas Mikolov - https://arxiv.org/pdf/1405.4053\n",
        "\n",
        "* **2015** - *From Word Embeddings To Document Distances* Matt J. Kusner, Yu Sun, Nicholas I. Kolkin, Kilian Q. Weinberger - http://proceedings.mlr.press/v37/kusnerb15.pdf\n"
      ]
    },
    {
      "cell_type": "markdown",
      "metadata": {
        "id": "o0MeNkMb6dk_",
        "colab_type": "text"
      },
      "source": [
        "# Introduction\n",
        "\n",
        "\n",
        "![alt text](https://cdn-images-1.medium.com/max/1000/0*DY41kNV4X5j_PfXA.png)\n",
        "\n",
        "\n",
        "![Word2Vec](https://multithreaded.stitchfix.com/assets/posts/2016-05-27-lda2vec/anim00.gif)\n",
        "Image from [StitchFix Blog](https://multithreaded.stitchfix.com/blog/2016/05/27/lda2vec)\n",
        "\n",
        "\n"
      ]
    },
    {
      "cell_type": "markdown",
      "metadata": {
        "id": "1C0elSC-_alg",
        "colab_type": "text"
      },
      "source": [
        "![Cosine Similarity](https://cdn-images-1.medium.com/max/800/0*XMW5mf81LSHodnTi.png)\n",
        "\n",
        "Image from [Introduction to Word Embedding and Word2Vec](https://towardsdatascience.com/introduction-to-word-embedding-and-word2vec-652d0c2060fa)"
      ]
    },
    {
      "cell_type": "markdown",
      "metadata": {
        "id": "2RUjUhtZ-pH1",
        "colab_type": "text"
      },
      "source": [
        "## Document Vectors\n",
        "\n",
        "![alt text](https://cdn-images-1.medium.com/max/800/0*x-gtU4UlO8FAsRvL.)\n",
        "\n",
        "Image from [A gentle introduction to Doc2Vec\n",
        "](https://medium.com/scaleabout/a-gentle-introduction-to-doc2vec-db3e8c0cce5e)\n",
        "\n",
        "![alt text](https://cdn-images-1.medium.com/max/800/0*NtIsrbd4VQzUKVKr.)\n",
        "\n",
        "Image from [A gentle introduction to Doc2Vec\n",
        "](https://medium.com/scaleabout/a-gentle-introduction-to-doc2vec-db3e8c0cce5e)\n"
      ]
    }
  ]
}