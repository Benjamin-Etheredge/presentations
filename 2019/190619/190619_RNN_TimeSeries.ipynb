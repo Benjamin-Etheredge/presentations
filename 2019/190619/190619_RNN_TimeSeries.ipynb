{
  "nbformat": 4,
  "nbformat_minor": 0,
  "metadata": {
    "colab": {
      "name": "190619_RNN_TimeSeries.ipynb",
      "version": "0.3.2",
      "provenance": []
    },
    "language_info": {
      "codemirror_mode": {
        "name": "ipython",
        "version": 3
      },
      "file_extension": ".py",
      "mimetype": "text/x-python",
      "name": "python",
      "nbconvert_exporter": "python",
      "pygments_lexer": "ipython3",
      "version": "3.6.7"
    },
    "kernelspec": {
      "display_name": "Python 3",
      "language": "python",
      "name": "python3"
    }
  },
  "cells": [
    {
      "cell_type": "markdown",
      "metadata": {
        "id": "D5CaAWtIEzlu",
        "colab_type": "text"
      },
      "source": [
        "Tutorial from [here](https://medium.com/datadriveninvestor/multivariate-time-series-using-rnn-with-keras-7f78f4488679)"
      ]
    },
    {
      "cell_type": "code",
      "metadata": {
        "id": "WfkSFbYIEzlw",
        "colab_type": "code",
        "colab": {}
      },
      "source": [
        "import numpy as np\n",
        "import pandas as pd\n",
        "import matplotlib.pyplot as plt\n",
        "%matplotlib inline\n",
        "stock_data = pd.read_csv(\"https://github.com/HSV-AI/presentations/raw/master/2019/190619/HistoricalQuotes.csv\")\n"
      ],
      "execution_count": 0,
      "outputs": []
    },
    {
      "cell_type": "code",
      "metadata": {
        "id": "gfzQSILnEzlz",
        "colab_type": "code",
        "colab": {
          "base_uri": "https://localhost:8080/",
          "height": 111
        },
        "outputId": "f3756518-9aca-448f-c464-4dfefcf3e092"
      },
      "source": [
        "stock_data.head(2)\n"
      ],
      "execution_count": 3,
      "outputs": [
        {
          "output_type": "execute_result",
          "data": {
            "text/html": [
              "<div>\n",
              "<style scoped>\n",
              "    .dataframe tbody tr th:only-of-type {\n",
              "        vertical-align: middle;\n",
              "    }\n",
              "\n",
              "    .dataframe tbody tr th {\n",
              "        vertical-align: top;\n",
              "    }\n",
              "\n",
              "    .dataframe thead th {\n",
              "        text-align: right;\n",
              "    }\n",
              "</style>\n",
              "<table border=\"1\" class=\"dataframe\">\n",
              "  <thead>\n",
              "    <tr style=\"text-align: right;\">\n",
              "      <th></th>\n",
              "      <th>date</th>\n",
              "      <th>close</th>\n",
              "      <th>volume</th>\n",
              "      <th>open</th>\n",
              "      <th>high</th>\n",
              "      <th>low</th>\n",
              "    </tr>\n",
              "  </thead>\n",
              "  <tbody>\n",
              "    <tr>\n",
              "      <th>0</th>\n",
              "      <td>16:00</td>\n",
              "      <td>1,103.60</td>\n",
              "      <td>1,386,584</td>\n",
              "      <td>1,107.82</td>\n",
              "      <td>1,116.39</td>\n",
              "      <td>1,098.99</td>\n",
              "    </tr>\n",
              "    <tr>\n",
              "      <th>1</th>\n",
              "      <td>2019/06/18</td>\n",
              "      <td>1103.6000</td>\n",
              "      <td>1386684.0000</td>\n",
              "      <td>1109.6900</td>\n",
              "      <td>1116.3900</td>\n",
              "      <td>1098.9900</td>\n",
              "    </tr>\n",
              "  </tbody>\n",
              "</table>\n",
              "</div>"
            ],
            "text/plain": [
              "         date      close        volume       open       high        low\n",
              "0       16:00   1,103.60     1,386,584   1,107.82   1,116.39   1,098.99\n",
              "1  2019/06/18  1103.6000  1386684.0000  1109.6900  1116.3900  1098.9900"
            ]
          },
          "metadata": {
            "tags": []
          },
          "execution_count": 3
        }
      ]
    },
    {
      "cell_type": "code",
      "metadata": {
        "id": "G4pUHIlMEzl3",
        "colab_type": "code",
        "colab": {
          "base_uri": "https://localhost:8080/",
          "height": 204
        },
        "outputId": "28ab2460-9dbe-44fb-bc71-fe4452c5e397"
      },
      "source": [
        "stock_data.info()"
      ],
      "execution_count": 4,
      "outputs": [
        {
          "output_type": "stream",
          "text": [
            "<class 'pandas.core.frame.DataFrame'>\n",
            "RangeIndex: 1260 entries, 0 to 1259\n",
            "Data columns (total 6 columns):\n",
            "date      1260 non-null object\n",
            "close     1260 non-null object\n",
            "volume    1260 non-null object\n",
            "open      1260 non-null object\n",
            "high      1260 non-null object\n",
            "low       1260 non-null object\n",
            "dtypes: object(6)\n",
            "memory usage: 59.1+ KB\n"
          ],
          "name": "stdout"
        }
      ]
    },
    {
      "cell_type": "code",
      "metadata": {
        "id": "vv-HEWUiEzl5",
        "colab_type": "code",
        "colab": {}
      },
      "source": [
        "stock_data.high = (stock_data.high.str.split()).apply(lambda x: float(x[0].replace(',', '')))\n",
        "stock_data.low = (stock_data.low.str.split()).apply(lambda x: float(x[0].replace(',', '')))"
      ],
      "execution_count": 0,
      "outputs": []
    },
    {
      "cell_type": "code",
      "metadata": {
        "id": "JsLHuYfuEzl7",
        "colab_type": "code",
        "colab": {
          "base_uri": "https://localhost:8080/",
          "height": 111
        },
        "outputId": "33c506ac-9160-4006-cd79-7e3e58bb94d3"
      },
      "source": [
        "import math\n",
        "stock_data[\"average\"] = (stock_data[\"high\"] + stock_data[\"low\"])/2\n",
        "stock_data.head(2)\n"
      ],
      "execution_count": 7,
      "outputs": [
        {
          "output_type": "execute_result",
          "data": {
            "text/html": [
              "<div>\n",
              "<style scoped>\n",
              "    .dataframe tbody tr th:only-of-type {\n",
              "        vertical-align: middle;\n",
              "    }\n",
              "\n",
              "    .dataframe tbody tr th {\n",
              "        vertical-align: top;\n",
              "    }\n",
              "\n",
              "    .dataframe thead th {\n",
              "        text-align: right;\n",
              "    }\n",
              "</style>\n",
              "<table border=\"1\" class=\"dataframe\">\n",
              "  <thead>\n",
              "    <tr style=\"text-align: right;\">\n",
              "      <th></th>\n",
              "      <th>date</th>\n",
              "      <th>close</th>\n",
              "      <th>volume</th>\n",
              "      <th>open</th>\n",
              "      <th>high</th>\n",
              "      <th>low</th>\n",
              "      <th>average</th>\n",
              "    </tr>\n",
              "  </thead>\n",
              "  <tbody>\n",
              "    <tr>\n",
              "      <th>0</th>\n",
              "      <td>16:00</td>\n",
              "      <td>1,103.60</td>\n",
              "      <td>1,386,584</td>\n",
              "      <td>1,107.82</td>\n",
              "      <td>1116.39</td>\n",
              "      <td>1098.99</td>\n",
              "      <td>1107.69</td>\n",
              "    </tr>\n",
              "    <tr>\n",
              "      <th>1</th>\n",
              "      <td>2019/06/18</td>\n",
              "      <td>1103.6000</td>\n",
              "      <td>1386684.0000</td>\n",
              "      <td>1109.6900</td>\n",
              "      <td>1116.39</td>\n",
              "      <td>1098.99</td>\n",
              "      <td>1107.69</td>\n",
              "    </tr>\n",
              "  </tbody>\n",
              "</table>\n",
              "</div>"
            ],
            "text/plain": [
              "         date      close        volume       open     high      low  average\n",
              "0       16:00   1,103.60     1,386,584   1,107.82  1116.39  1098.99  1107.69\n",
              "1  2019/06/18  1103.6000  1386684.0000  1109.6900  1116.39  1098.99  1107.69"
            ]
          },
          "metadata": {
            "tags": []
          },
          "execution_count": 7
        }
      ]
    },
    {
      "cell_type": "code",
      "metadata": {
        "id": "TJ34qylyEzl-",
        "colab_type": "code",
        "colab": {}
      },
      "source": [
        "stock_data.volume = (stock_data.volume.str.split()).apply(lambda x: float(x[0].replace(',', '')))\n",
        "input_feature= stock_data.iloc[:,[2,6]].values\n",
        "input_data = input_feature"
      ],
      "execution_count": 0,
      "outputs": []
    },
    {
      "cell_type": "code",
      "metadata": {
        "id": "dxLdYEzQEzmA",
        "colab_type": "code",
        "colab": {
          "base_uri": "https://localhost:8080/",
          "height": 295
        },
        "outputId": "8efda2f5-961f-49e7-ed5a-aea97204b1b0"
      },
      "source": [
        "plt.plot(input_feature[:,0])\n",
        "plt.title(\"Volume of stocks sold\")\n",
        "plt.xlabel(\"Time (latest-> oldest)\")\n",
        "plt.ylabel(\"Volume of stocks traded\")\n",
        "plt.show()"
      ],
      "execution_count": 9,
      "outputs": [
        {
          "output_type": "display_data",
          "data": {
            "image/png": "[encoded data removed]",
            "text/plain": [
              "<Figure size 432x288 with 1 Axes>"
            ]
          },
          "metadata": {
            "tags": []
          }
        }
      ]
    },
    {
      "cell_type": "code",
      "metadata": {
        "id": "NB-cCbhuEzmD",
        "colab_type": "code",
        "colab": {
          "base_uri": "https://localhost:8080/",
          "height": 295
        },
        "outputId": "922a3581-b06b-4439-d936-2b7b2324248b"
      },
      "source": [
        "plt.plot(input_feature[:,1], color='blue')\n",
        "plt.title(\"Google Stock Prices\")\n",
        "plt.xlabel(\"Time (latest-> oldest)\")\n",
        "plt.ylabel(\"Stock Opening Price\")\n",
        "plt.show()"
      ],
      "execution_count": 10,
      "outputs": [
        {
          "output_type": "display_data",
          "data": {
            "image/png": "[encoded data removed]",
            "text/plain": [
              "<Figure size 432x288 with 1 Axes>"
            ]
          },
          "metadata": {
            "tags": []
          }
        }
      ]
    },
    {
      "cell_type": "code",
      "metadata": {
        "id": "bagdBI7REzmF",
        "colab_type": "code",
        "colab": {}
      },
      "source": [
        "from sklearn.preprocessing import MinMaxScaler\n",
        "sc= MinMaxScaler(feature_range=(0,1))\n",
        "input_data[:,0:2] = sc.fit_transform(input_feature[:,:])"
      ],
      "execution_count": 0,
      "outputs": []
    },
    {
      "cell_type": "code",
      "metadata": {
        "id": "4q7q5lPoEzmH",
        "colab_type": "code",
        "colab": {}
      },
      "source": [
        "lookback= 50\n",
        "\n",
        "test_size=int(.3 * len(stock_data))\n",
        "X=[]\n",
        "y=[]\n",
        "for i in range(len(stock_data)-lookback-1):\n",
        "    t=[]\n",
        "    for j in range(0,lookback):\n",
        "        \n",
        "        t.append(input_data[[(i+j)], :])\n",
        "    X.append(t)\n",
        "    y.append(input_data[i+ lookback,1])"
      ],
      "execution_count": 0,
      "outputs": []
    },
    {
      "cell_type": "code",
      "metadata": {
        "id": "001jflatEzmJ",
        "colab_type": "code",
        "colab": {
          "base_uri": "https://localhost:8080/",
          "height": 51
        },
        "outputId": "9bf16eeb-8e22-4364-efd6-00dfca144f4e"
      },
      "source": [
        "X, y= np.array(X), np.array(y)\n",
        "X_test = X[:test_size+lookback]\n",
        "X = X.reshape(X.shape[0],lookback, 2)\n",
        "X_test = X_test.reshape(X_test.shape[0],lookback, 2)\n",
        "print(X.shape)\n",
        "print(X_test.shape)"
      ],
      "execution_count": 13,
      "outputs": [
        {
          "output_type": "stream",
          "text": [
            "(1209, 50, 2)\n",
            "(428, 50, 2)\n"
          ],
          "name": "stdout"
        }
      ]
    },
    {
      "cell_type": "code",
      "metadata": {
        "id": "2zOEphc1EzmM",
        "colab_type": "code",
        "colab": {
          "base_uri": "https://localhost:8080/",
          "height": 34
        },
        "outputId": "f6f2cc34-f0cc-4d48-bd65-734575b85576"
      },
      "source": [
        "from keras import Sequential\n",
        "from keras.layers import Dense, LSTM"
      ],
      "execution_count": 14,
      "outputs": [
        {
          "output_type": "stream",
          "text": [
            "Using TensorFlow backend.\n"
          ],
          "name": "stderr"
        }
      ]
    },
    {
      "cell_type": "code",
      "metadata": {
        "id": "7T929JgGEzmP",
        "colab_type": "code",
        "colab": {
          "base_uri": "https://localhost:8080/",
          "height": 411
        },
        "outputId": "f8989543-dae7-46fe-a1a6-7584f027b7fc"
      },
      "source": [
        "model = Sequential()\n",
        "model.add(LSTM(units=30, return_sequences= True, input_shape=(X.shape[1],2)))\n",
        "model.add(LSTM(units=30, return_sequences=True))\n",
        "model.add(LSTM(units=30))\n",
        "model.add(Dense(units=1))\n",
        "model.summary()\n"
      ],
      "execution_count": 15,
      "outputs": [
        {
          "output_type": "stream",
          "text": [
            "WARNING: Logging before flag parsing goes to stderr.\n",
            "W0619 04:56:15.537512 139863069484928 deprecation_wrapper.py:119] From /usr/local/lib/python3.6/dist-packages/keras/backend/tensorflow_backend.py:74: The name tf.get_default_graph is deprecated. Please use tf.compat.v1.get_default_graph instead.\n",
            "\n",
            "W0619 04:56:15.585733 139863069484928 deprecation_wrapper.py:119] From /usr/local/lib/python3.6/dist-packages/keras/backend/tensorflow_backend.py:517: The name tf.placeholder is deprecated. Please use tf.compat.v1.placeholder instead.\n",
            "\n",
            "W0619 04:56:15.595386 139863069484928 deprecation_wrapper.py:119] From /usr/local/lib/python3.6/dist-packages/keras/backend/tensorflow_backend.py:4138: The name tf.random_uniform is deprecated. Please use tf.random.uniform instead.\n",
            "\n"
          ],
          "name": "stderr"
        },
        {
          "output_type": "stream",
          "text": [
            "_________________________________________________________________\n",
            "Layer (type)                 Output Shape              Param #   \n",
            "=================================================================\n",
            "lstm_1 (LSTM)                (None, 50, 30)            3960      \n",
            "_________________________________________________________________\n",
            "lstm_2 (LSTM)                (None, 50, 30)            7320      \n",
            "_________________________________________________________________\n",
            "lstm_3 (LSTM)                (None, 30)                7320      \n",
            "_________________________________________________________________\n",
            "dense_1 (Dense)              (None, 1)                 31        \n",
            "=================================================================\n",
            "Total params: 18,631\n",
            "Trainable params: 18,631\n",
            "Non-trainable params: 0\n",
            "_________________________________________________________________\n"
          ],
          "name": "stdout"
        }
      ]
    },
    {
      "cell_type": "code",
      "metadata": {
        "id": "3mWzbiUbGAVC",
        "colab_type": "code",
        "colab": {
          "base_uri": "https://localhost:8080/",
          "height": 71
        },
        "outputId": "d90b646a-0d1f-46b0-ac1d-4e5b49300cc4"
      },
      "source": [
        "model.compile(optimizer='adam', loss='mean_squared_error')"
      ],
      "execution_count": 16,
      "outputs": [
        {
          "output_type": "stream",
          "text": [
            "W0619 04:56:38.671501 139863069484928 deprecation_wrapper.py:119] From /usr/local/lib/python3.6/dist-packages/keras/optimizers.py:790: The name tf.train.Optimizer is deprecated. Please use tf.compat.v1.train.Optimizer instead.\n",
            "\n"
          ],
          "name": "stderr"
        }
      ]
    },
    {
      "cell_type": "code",
      "metadata": {
        "id": "6G7gcUIGGD0h",
        "colab_type": "code",
        "colab": {
          "base_uri": "https://localhost:8080/",
          "height": 3182
        },
        "outputId": "65638279-ab53-4359-d199-3261c6868d1f"
      },
      "source": [
        "model.fit(X, y, epochs=200, batch_size=32)\n"
      ],
      "execution_count": 0,
      "outputs": [
        {
          "output_type": "stream",
          "text": [
            "W0619 04:56:53.400829 139863069484928 deprecation.py:323] From /usr/local/lib/python3.6/dist-packages/tensorflow/python/ops/math_grad.py:1250: add_dispatch_support.<locals>.wrapper (from tensorflow.python.ops.array_ops) is deprecated and will be removed in a future version.\n",
            "Instructions for updating:\n",
            "Use tf.where in 2.0, which has the same broadcast rule as np.where\n",
            "W0619 04:56:55.230294 139863069484928 deprecation_wrapper.py:119] From /usr/local/lib/python3.6/dist-packages/keras/backend/tensorflow_backend.py:986: The name tf.assign_add is deprecated. Please use tf.compat.v1.assign_add instead.\n",
            "\n",
            "W0619 04:56:55.387660 139863069484928 deprecation_wrapper.py:119] From /usr/local/lib/python3.6/dist-packages/keras/backend/tensorflow_backend.py:973: The name tf.assign is deprecated. Please use tf.compat.v1.assign instead.\n",
            "\n"
          ],
          "name": "stderr"
        },
        {
          "output_type": "stream",
          "text": [
            "Epoch 1/200\n",
            "1209/1209 [==============================] - 6s 5ms/step - loss: 0.0709\n",
            "Epoch 2/200\n",
            "1209/1209 [==============================] - 3s 3ms/step - loss: 0.0033\n",
            "Epoch 3/200\n",
            "1209/1209 [==============================] - 3s 3ms/step - loss: 0.0017\n",
            "Epoch 4/200\n",
            "1209/1209 [==============================] - 3s 3ms/step - loss: 0.0016\n",
            "Epoch 5/200\n",
            "1209/1209 [==============================] - 3s 3ms/step - loss: 0.0015\n",
            "Epoch 6/200\n",
            "1209/1209 [==============================] - 3s 3ms/step - loss: 0.0015\n",
            "Epoch 7/200\n",
            "1209/1209 [==============================] - 3s 3ms/step - loss: 0.0014\n",
            "Epoch 8/200\n",
            "1209/1209 [==============================] - 3s 3ms/step - loss: 0.0014\n",
            "Epoch 9/200\n",
            "1209/1209 [==============================] - 3s 3ms/step - loss: 0.0014\n",
            "Epoch 10/200\n",
            "1209/1209 [==============================] - 3s 3ms/step - loss: 0.0013\n",
            "Epoch 11/200\n",
            "1209/1209 [==============================] - 3s 3ms/step - loss: 0.0013\n",
            "Epoch 12/200\n",
            "1209/1209 [==============================] - 3s 3ms/step - loss: 0.0014\n",
            "Epoch 13/200\n",
            "1209/1209 [==============================] - 3s 3ms/step - loss: 0.0012\n",
            "Epoch 14/200\n",
            "1209/1209 [==============================] - 3s 3ms/step - loss: 0.0013\n",
            "Epoch 15/200\n",
            "1209/1209 [==============================] - 3s 3ms/step - loss: 0.0012\n",
            "Epoch 16/200\n",
            "1209/1209 [==============================] - 3s 3ms/step - loss: 0.0014\n",
            "Epoch 17/200\n",
            "1209/1209 [==============================] - 3s 3ms/step - loss: 0.0012\n",
            "Epoch 18/200\n",
            "1209/1209 [==============================] - 3s 3ms/step - loss: 0.0011\n",
            "Epoch 19/200\n",
            "1209/1209 [==============================] - 3s 3ms/step - loss: 0.0012\n",
            "Epoch 20/200\n",
            "1209/1209 [==============================] - 3s 3ms/step - loss: 0.0011\n",
            "Epoch 21/200\n",
            "1209/1209 [==============================] - 3s 3ms/step - loss: 0.0011\n",
            "Epoch 22/200\n",
            "1209/1209 [==============================] - 3s 3ms/step - loss: 0.0011\n",
            "Epoch 23/200\n",
            "1209/1209 [==============================] - 3s 3ms/step - loss: 0.0010\n",
            "Epoch 24/200\n",
            "1209/1209 [==============================] - 3s 3ms/step - loss: 0.0010\n",
            "Epoch 25/200\n",
            "1209/1209 [==============================] - 3s 3ms/step - loss: 0.0010\n",
            "Epoch 26/200\n",
            "1209/1209 [==============================] - 3s 3ms/step - loss: 0.0010\n",
            "Epoch 27/200\n",
            "1209/1209 [==============================] - 3s 3ms/step - loss: 0.0010\n",
            "Epoch 28/200\n",
            "1209/1209 [==============================] - 3s 3ms/step - loss: 9.6258e-04\n",
            "Epoch 29/200\n",
            "1209/1209 [==============================] - 3s 3ms/step - loss: 9.6742e-04\n",
            "Epoch 30/200\n",
            "1209/1209 [==============================] - 3s 3ms/step - loss: 9.8254e-04\n",
            "Epoch 31/200\n",
            "1209/1209 [==============================] - 3s 3ms/step - loss: 9.5105e-04\n",
            "Epoch 32/200\n",
            "1209/1209 [==============================] - 3s 3ms/step - loss: 8.9330e-04\n",
            "Epoch 33/200\n",
            "1209/1209 [==============================] - 3s 3ms/step - loss: 9.0023e-04\n",
            "Epoch 34/200\n",
            "1209/1209 [==============================] - 3s 3ms/step - loss: 8.7588e-04\n",
            "Epoch 35/200\n",
            "1209/1209 [==============================] - 3s 3ms/step - loss: 8.5481e-04\n",
            "Epoch 36/200\n",
            "1209/1209 [==============================] - 3s 3ms/step - loss: 8.4891e-04\n",
            "Epoch 37/200\n",
            "1209/1209 [==============================] - 3s 3ms/step - loss: 8.2388e-04\n",
            "Epoch 38/200\n",
            "1209/1209 [==============================] - 3s 3ms/step - loss: 9.2024e-04\n",
            "Epoch 39/200\n",
            "1209/1209 [==============================] - 3s 3ms/step - loss: 7.8419e-04\n",
            "Epoch 40/200\n",
            "1209/1209 [==============================] - 3s 3ms/step - loss: 8.1216e-04\n",
            "Epoch 41/200\n",
            "1209/1209 [==============================] - 3s 3ms/step - loss: 7.5287e-04\n",
            "Epoch 42/200\n",
            "1209/1209 [==============================] - 3s 3ms/step - loss: 9.3080e-04\n",
            "Epoch 43/200\n",
            "1209/1209 [==============================] - 3s 3ms/step - loss: 7.4000e-04\n",
            "Epoch 44/200\n",
            "1209/1209 [==============================] - 3s 3ms/step - loss: 6.9599e-04\n",
            "Epoch 45/200\n",
            "1209/1209 [==============================] - 3s 3ms/step - loss: 6.7968e-04\n",
            "Epoch 46/200\n",
            "1209/1209 [==============================] - 3s 3ms/step - loss: 7.4901e-04\n",
            "Epoch 47/200\n",
            "1209/1209 [==============================] - 3s 3ms/step - loss: 6.9200e-04\n",
            "Epoch 48/200\n",
            "1209/1209 [==============================] - 3s 3ms/step - loss: 6.6956e-04\n",
            "Epoch 49/200\n",
            "1209/1209 [==============================] - 3s 3ms/step - loss: 6.9159e-04\n",
            "Epoch 50/200\n",
            "1209/1209 [==============================] - 3s 3ms/step - loss: 6.2964e-04\n",
            "Epoch 51/200\n",
            "1209/1209 [==============================] - 3s 3ms/step - loss: 5.9880e-04\n",
            "Epoch 52/200\n",
            "1209/1209 [==============================] - 3s 3ms/step - loss: 6.0021e-04\n",
            "Epoch 53/200\n",
            "1209/1209 [==============================] - 3s 3ms/step - loss: 7.9629e-04\n",
            "Epoch 54/200\n",
            "1209/1209 [==============================] - 3s 3ms/step - loss: 6.3878e-04\n",
            "Epoch 55/200\n",
            "1209/1209 [==============================] - 3s 3ms/step - loss: 6.2924e-04\n",
            "Epoch 56/200\n",
            "1209/1209 [==============================] - 3s 3ms/step - loss: 5.6481e-04\n",
            "Epoch 57/200\n",
            "1209/1209 [==============================] - 3s 3ms/step - loss: 5.2543e-04\n",
            "Epoch 58/200\n",
            "1209/1209 [==============================] - 3s 3ms/step - loss: 5.3974e-04\n",
            "Epoch 59/200\n",
            "1209/1209 [==============================] - 3s 3ms/step - loss: 5.3988e-04\n",
            "Epoch 60/200\n",
            "1209/1209 [==============================] - 3s 3ms/step - loss: 5.8641e-04\n",
            "Epoch 61/200\n",
            "1209/1209 [==============================] - 3s 3ms/step - loss: 5.5251e-04\n",
            "Epoch 62/200\n",
            "1209/1209 [==============================] - 3s 3ms/step - loss: 4.8607e-04\n",
            "Epoch 63/200\n",
            "1209/1209 [==============================] - 3s 3ms/step - loss: 4.6223e-04\n",
            "Epoch 64/200\n",
            "1209/1209 [==============================] - 3s 3ms/step - loss: 4.4144e-04\n",
            "Epoch 65/200\n",
            "1209/1209 [==============================] - 3s 3ms/step - loss: 4.3068e-04\n",
            "Epoch 66/200\n",
            "1209/1209 [==============================] - 3s 3ms/step - loss: 4.2353e-04\n",
            "Epoch 67/200\n",
            "1209/1209 [==============================] - 3s 3ms/step - loss: 4.1480e-04\n",
            "Epoch 68/200\n",
            "1209/1209 [==============================] - 3s 3ms/step - loss: 4.5232e-04\n",
            "Epoch 69/200\n",
            "1209/1209 [==============================] - 3s 3ms/step - loss: 4.3296e-04\n",
            "Epoch 70/200\n",
            "1209/1209 [==============================] - 3s 3ms/step - loss: 4.2273e-04\n",
            "Epoch 71/200\n",
            "1209/1209 [==============================] - 3s 3ms/step - loss: 3.8011e-04\n",
            "Epoch 72/200\n",
            "1209/1209 [==============================] - 3s 3ms/step - loss: 3.8762e-04\n",
            "Epoch 73/200\n",
            "1209/1209 [==============================] - 3s 3ms/step - loss: 3.7377e-04\n",
            "Epoch 74/200\n",
            "1209/1209 [==============================] - 3s 3ms/step - loss: 3.6453e-04\n",
            "Epoch 75/200\n",
            "1209/1209 [==============================] - 3s 3ms/step - loss: 3.5291e-04\n",
            "Epoch 76/200\n",
            "1209/1209 [==============================] - 3s 3ms/step - loss: 3.7134e-04\n",
            "Epoch 77/200\n",
            "1209/1209 [==============================] - 3s 3ms/step - loss: 3.5379e-04\n",
            "Epoch 78/200\n",
            "1209/1209 [==============================] - 3s 3ms/step - loss: 3.4692e-04\n",
            "Epoch 79/200\n",
            "1209/1209 [==============================] - 3s 3ms/step - loss: 3.7553e-04\n",
            "Epoch 80/200\n",
            "1209/1209 [==============================] - 3s 3ms/step - loss: 3.9616e-04\n",
            "Epoch 81/200\n",
            "1209/1209 [==============================] - 3s 3ms/step - loss: 4.7016e-04\n",
            "Epoch 82/200\n",
            "1209/1209 [==============================] - 3s 3ms/step - loss: 3.5245e-04\n",
            "Epoch 83/200\n",
            "1209/1209 [==============================] - 3s 3ms/step - loss: 3.3491e-04\n",
            "Epoch 84/200\n",
            "1209/1209 [==============================] - 3s 3ms/step - loss: 3.9949e-04\n",
            "Epoch 85/200\n",
            "1209/1209 [==============================] - 3s 3ms/step - loss: 3.6223e-04\n",
            "Epoch 86/200\n",
            "1209/1209 [==============================] - 3s 3ms/step - loss: 3.7691e-04\n",
            "Epoch 87/200\n",
            "1209/1209 [==============================] - 3s 3ms/step - loss: 4.0846e-04\n",
            "Epoch 88/200\n",
            "1209/1209 [==============================] - 3s 3ms/step - loss: 3.5128e-04\n",
            "Epoch 89/200\n",
            "1152/1209 [===========================>..] - ETA: 0s - loss: 3.5371e-04"
          ],
          "name": "stdout"
        }
      ]
    },
    {
      "cell_type": "code",
      "metadata": {
        "id": "_VZJvfwHHHro",
        "colab_type": "code",
        "colab": {}
      },
      "source": [
        "plt.plot(predicted_value, color= 'red')\n",
        "plt.plot(input_data[lookback:test_size+(2*lookback),1], color='green')\n",
        "plt.title(\"Opening price of stocks sold\")\n",
        "plt.xlabel(\"Time (latest-> oldest)\")\n",
        "plt.ylabel(\"Stock Opening Price\")\n",
        "plt.show()"
      ],
      "execution_count": 0,
      "outputs": []
    }
  ]
}