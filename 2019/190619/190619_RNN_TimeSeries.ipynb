{
 "cells": [
  {
   "cell_type": "markdown",
   "metadata": {},
   "source": [
    "Tutorial from [here](https://medium.com/datadriveninvestor/multivariate-time-series-using-rnn-with-keras-7f78f4488679)"
   ]
  },
  {
   "cell_type": "code",
   "execution_count": 31,
   "metadata": {},
   "outputs": [],
   "source": [
    "import numpy as np\n",
    "import pandas as pd\n",
    "import matplotlib.pyplot as plt\n",
    "%matplotlib inline\n",
    "stock_data = pd.read_csv(\"/home/jlangley/Downloads/HistoricalQuotes.csv\")\n"
   ]
  },
  {
   "cell_type": "code",
   "execution_count": 32,
   "metadata": {},
   "outputs": [
    {
     "data": {
      "text/html": [
       "<div>\n",
       "<style scoped>\n",
       "    .dataframe tbody tr th:only-of-type {\n",
       "        vertical-align: middle;\n",
       "    }\n",
       "\n",
       "    .dataframe tbody tr th {\n",
       "        vertical-align: top;\n",
       "    }\n",
       "\n",
       "    .dataframe thead th {\n",
       "        text-align: right;\n",
       "    }\n",
       "</style>\n",
       "<table border=\"1\" class=\"dataframe\">\n",
       "  <thead>\n",
       "    <tr style=\"text-align: right;\">\n",
       "      <th></th>\n",
       "      <th>date</th>\n",
       "      <th>close</th>\n",
       "      <th>volume</th>\n",
       "      <th>open</th>\n",
       "      <th>high</th>\n",
       "      <th>low</th>\n",
       "    </tr>\n",
       "  </thead>\n",
       "  <tbody>\n",
       "    <tr>\n",
       "      <th>0</th>\n",
       "      <td>16:00</td>\n",
       "      <td>1,103.60</td>\n",
       "      <td>1,386,584</td>\n",
       "      <td>1,107.82</td>\n",
       "      <td>1,116.39</td>\n",
       "      <td>1,098.99</td>\n",
       "    </tr>\n",
       "    <tr>\n",
       "      <th>1</th>\n",
       "      <td>2019/06/18</td>\n",
       "      <td>1103.6000</td>\n",
       "      <td>1386684.0000</td>\n",
       "      <td>1109.6900</td>\n",
       "      <td>1116.3900</td>\n",
       "      <td>1098.9900</td>\n",
       "    </tr>\n",
       "  </tbody>\n",
       "</table>\n",
       "</div>"
      ],
      "text/plain": [
       "         date      close        volume       open       high        low\n",
       "0       16:00   1,103.60     1,386,584   1,107.82   1,116.39   1,098.99\n",
       "1  2019/06/18  1103.6000  1386684.0000  1109.6900  1116.3900  1098.9900"
      ]
     },
     "execution_count": 32,
     "metadata": {},
     "output_type": "execute_result"
    }
   ],
   "source": [
    "stock_data.head(2)\n"
   ]
  },
  {
   "cell_type": "code",
   "execution_count": 34,
   "metadata": {},
   "outputs": [
    {
     "name": "stdout",
     "output_type": "stream",
     "text": [
      "<class 'pandas.core.frame.DataFrame'>\n",
      "RangeIndex: 1260 entries, 0 to 1259\n",
      "Data columns (total 6 columns):\n",
      "date      1260 non-null object\n",
      "close     1260 non-null object\n",
      "volume    1260 non-null object\n",
      "open      1260 non-null object\n",
      "high      1260 non-null object\n",
      "low       1260 non-null object\n",
      "dtypes: object(6)\n",
      "memory usage: 59.1+ KB\n"
     ]
    }
   ],
   "source": [
    "stock_data.info()"
   ]
  },
  {
   "cell_type": "code",
   "execution_count": 35,
   "metadata": {},
   "outputs": [],
   "source": [
    "stock_data.high = (stock_data.high.str.split()).apply(lambda x: float(x[0].replace(',', '')))\n",
    "stock_data.low = (stock_data.low.str.split()).apply(lambda x: float(x[0].replace(',', '')))"
   ]
  },
  {
   "cell_type": "code",
   "execution_count": 36,
   "metadata": {},
   "outputs": [
    {
     "data": {
      "text/html": [
       "<div>\n",
       "<style scoped>\n",
       "    .dataframe tbody tr th:only-of-type {\n",
       "        vertical-align: middle;\n",
       "    }\n",
       "\n",
       "    .dataframe tbody tr th {\n",
       "        vertical-align: top;\n",
       "    }\n",
       "\n",
       "    .dataframe thead th {\n",
       "        text-align: right;\n",
       "    }\n",
       "</style>\n",
       "<table border=\"1\" class=\"dataframe\">\n",
       "  <thead>\n",
       "    <tr style=\"text-align: right;\">\n",
       "      <th></th>\n",
       "      <th>date</th>\n",
       "      <th>close</th>\n",
       "      <th>volume</th>\n",
       "      <th>open</th>\n",
       "      <th>high</th>\n",
       "      <th>low</th>\n",
       "      <th>average</th>\n",
       "    </tr>\n",
       "  </thead>\n",
       "  <tbody>\n",
       "    <tr>\n",
       "      <th>0</th>\n",
       "      <td>16:00</td>\n",
       "      <td>1,103.60</td>\n",
       "      <td>1,386,584</td>\n",
       "      <td>1,107.82</td>\n",
       "      <td>1116.39</td>\n",
       "      <td>1098.99</td>\n",
       "      <td>1107.69</td>\n",
       "    </tr>\n",
       "    <tr>\n",
       "      <th>1</th>\n",
       "      <td>2019/06/18</td>\n",
       "      <td>1103.6000</td>\n",
       "      <td>1386684.0000</td>\n",
       "      <td>1109.6900</td>\n",
       "      <td>1116.39</td>\n",
       "      <td>1098.99</td>\n",
       "      <td>1107.69</td>\n",
       "    </tr>\n",
       "  </tbody>\n",
       "</table>\n",
       "</div>"
      ],
      "text/plain": [
       "         date      close        volume       open     high      low  average\n",
       "0       16:00   1,103.60     1,386,584   1,107.82  1116.39  1098.99  1107.69\n",
       "1  2019/06/18  1103.6000  1386684.0000  1109.6900  1116.39  1098.99  1107.69"
      ]
     },
     "execution_count": 36,
     "metadata": {},
     "output_type": "execute_result"
    }
   ],
   "source": [
    "import math\n",
    "stock_data[\"average\"] = (stock_data[\"high\"] + stock_data[\"low\"])/2\n",
    "stock_data.head(2)\n"
   ]
  },
  {
   "cell_type": "code",
   "execution_count": 37,
   "metadata": {},
   "outputs": [],
   "source": [
    "stock_data.volume = (stock_data.volume.str.split()).apply(lambda x: float(x[0].replace(',', '')))\n",
    "input_feature= stock_data.iloc[:,[2,6]].values\n",
    "input_data = input_feature"
   ]
  },
  {
   "cell_type": "code",
   "execution_count": 38,
   "metadata": {},
   "outputs": [
    {
     "data": {
      "image/png": "[encoded data removed]",
      "text/plain": [
       "<Figure size 432x288 with 1 Axes>"
      ]
     },
     "metadata": {},
     "output_type": "display_data"
    }
   ],
   "source": [
    "plt.plot(input_feature[:,0])\n",
    "plt.title(\"Volume of stocks sold\")\n",
    "plt.xlabel(\"Time (latest-> oldest)\")\n",
    "plt.ylabel(\"Volume of stocks traded\")\n",
    "plt.show()"
   ]
  },
  {
   "cell_type": "code",
   "execution_count": 39,
   "metadata": {},
   "outputs": [
    {
     "data": {
      "image/png": "[encoded data removed]",
      "text/plain": [
       "<Figure size 432x288 with 1 Axes>"
      ]
     },
     "metadata": {},
     "output_type": "display_data"
    }
   ],
   "source": [
    "plt.plot(input_feature[:,1], color='blue')\n",
    "plt.title(\"Google Stock Prices\")\n",
    "plt.xlabel(\"Time (latest-> oldest)\")\n",
    "plt.ylabel(\"Stock Opening Price\")\n",
    "plt.show()"
   ]
  },
  {
   "cell_type": "code",
   "execution_count": 40,
   "metadata": {},
   "outputs": [],
   "source": [
    "from sklearn.preprocessing import MinMaxScaler\n",
    "sc= MinMaxScaler(feature_range=(0,1))\n",
    "input_data[:,0:2] = sc.fit_transform(input_feature[:,:])"
   ]
  },
  {
   "cell_type": "code",
   "execution_count": 41,
   "metadata": {},
   "outputs": [],
   "source": [
    "lookback= 50\n",
    "\n",
    "test_size=int(.3 * len(stock_data))\n",
    "X=[]\n",
    "y=[]\n",
    "for i in range(len(stock_data)-lookback-1):\n",
    "    t=[]\n",
    "    for j in range(0,lookback):\n",
    "        \n",
    "        t.append(input_data[[(i+j)], :])\n",
    "    X.append(t)\n",
    "    y.append(input_data[i+ lookback,1])"
   ]
  },
  {
   "cell_type": "code",
   "execution_count": 42,
   "metadata": {},
   "outputs": [
    {
     "name": "stdout",
     "output_type": "stream",
     "text": [
      "(1209, 50, 2)\n",
      "(428, 50, 2)\n"
     ]
    }
   ],
   "source": [
    "X, y= np.array(X), np.array(y)\n",
    "X_test = X[:test_size+lookback]\n",
    "X = X.reshape(X.shape[0],lookback, 2)\n",
    "X_test = X_test.reshape(X_test.shape[0],lookback, 2)\n",
    "print(X.shape)\n",
    "print(X_test.shape)"
   ]
  },
  {
   "cell_type": "code",
   "execution_count": 43,
   "metadata": {},
   "outputs": [
    {
     "ename": "ModuleNotFoundError",
     "evalue": "No module named 'keras'",
     "output_type": "error",
     "traceback": [
      "\u001b[0;31m---------------------------------------------------------------------------\u001b[0m",
      "\u001b[0;31mModuleNotFoundError\u001b[0m                       Traceback (most recent call last)",
      "\u001b[0;32m<ipython-input-43-ba4b928bf232>\u001b[0m in \u001b[0;36m<module>\u001b[0;34m()\u001b[0m\n\u001b[0;32m----> 1\u001b[0;31m \u001b[0;32mfrom\u001b[0m \u001b[0mkeras\u001b[0m \u001b[0;32mimport\u001b[0m \u001b[0mSequential\u001b[0m\u001b[0;34m\u001b[0m\u001b[0;34m\u001b[0m\u001b[0m\n\u001b[0m\u001b[1;32m      2\u001b[0m \u001b[0;32mfrom\u001b[0m \u001b[0mkeras\u001b[0m\u001b[0;34m.\u001b[0m\u001b[0mlayers\u001b[0m \u001b[0;32mimport\u001b[0m \u001b[0mDense\u001b[0m\u001b[0;34m,\u001b[0m \u001b[0mLSTM\u001b[0m\u001b[0;34m\u001b[0m\u001b[0;34m\u001b[0m\u001b[0m\n",
      "\u001b[0;31mModuleNotFoundError\u001b[0m: No module named 'keras'"
     ]
    }
   ],
   "source": [
    "from keras import Sequential\n",
    "from keras.layers import Dense, LSTM"
   ]
  },
  {
   "cell_type": "code",
   "execution_count": null,
   "metadata": {},
   "outputs": [],
   "source": []
  }
 ],
 "metadata": {
  "kernelspec": {
   "display_name": "Python 3",
   "language": "python",
   "name": "python3"
  },
  "language_info": {
   "codemirror_mode": {
    "name": "ipython",
    "version": 3
   },
   "file_extension": ".py",
   "mimetype": "text/x-python",
   "name": "python",
   "nbconvert_exporter": "python",
   "pygments_lexer": "ipython3",
   "version": "3.6.7"
  }
 },
 "nbformat": 4,
 "nbformat_minor": 2
}
