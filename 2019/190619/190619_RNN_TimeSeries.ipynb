{
  "nbformat": 4,
  "nbformat_minor": 0,
  "metadata": {
    "colab": {
      "name": "190619_RNN_TimeSeries.ipynb",
      "version": "0.3.2",
      "provenance": []
    },
    "language_info": {
      "codemirror_mode": {
        "name": "ipython",
        "version": 3
      },
      "file_extension": ".py",
      "mimetype": "text/x-python",
      "name": "python",
      "nbconvert_exporter": "python",
      "pygments_lexer": "ipython3",
      "version": "3.6.7"
    },
    "kernelspec": {
      "display_name": "Python 3",
      "language": "python",
      "name": "python3"
    }
  },
  "cells": [
    {
      "cell_type": "markdown",
      "metadata": {
        "id": "D5CaAWtIEzlu",
        "colab_type": "text"
      },
      "source": [
        "# Recurrent Neural Net Part 2\n",
        "\n",
        "This notebook is based on a tutorial: \"Multivariate Time Series using RNN with Keras\" from [here](https://medium.com/datadriveninvestor/multivariate-time-series-using-rnn-with-keras-7f78f4488679)\n",
        "\n"
      ]
    },
    {
      "cell_type": "markdown",
      "metadata": {
        "id": "2vepEd1M2mlp",
        "colab_type": "text"
      },
      "source": [
        "## Meeting Agenda\n",
        "\n",
        "\n",
        "\n",
        "1.   Project Updates\n",
        "\n",
        "- Phil \n",
        "  - https://www.edx.org/bio/robert-van-de-geijn\n",
        "  - Pink Zybo - board that executes Python on an FPGA - [pynq.io](https://pynq.io)\n",
        "\n",
        "- IBM Watson templates - learning Python\n",
        "\n",
        "- RNN for soil moisture prediction\n",
        "\n",
        "- Web app called \"Improved Initiative\" - manages attributes of D&D characters. Nick working on importing stat blocks.\n",
        "\n",
        "- MDA Small Business Conference June 25-26\n",
        "\n",
        "2.   SBIR Brainstorm Session Updates\n",
        "\n",
        " - MDA 19-005 Topic\n",
        " - MDA 19-011 Topic\n",
        " - Additional session to follow tonight\n",
        " \n",
        "3.   RNN Code Walkthrough\n"
      ]
    },
    {
      "cell_type": "markdown",
      "metadata": {
        "id": "ooLKsIWF2fwz",
        "colab_type": "text"
      },
      "source": [
        "## RNN Example Code"
      ]
    },
    {
      "cell_type": "code",
      "metadata": {
        "id": "WfkSFbYIEzlw",
        "colab_type": "code",
        "colab": {
          "base_uri": "https://localhost:8080/",
          "height": 34
        },
        "outputId": "f3629ae5-ac72-4c5f-81a8-a0d22b14510d"
      },
      "source": [
        "import numpy as np\n",
        "import pandas as pd\n",
        "import math\n",
        "from keras import Sequential\n",
        "from keras.layers import Dense, LSTM\n",
        "from sklearn.preprocessing import MinMaxScaler\n",
        "import matplotlib.pyplot as plt\n",
        "%matplotlib inline\n"
      ],
      "execution_count": 1,
      "outputs": [
        {
          "output_type": "stream",
          "text": [
            "Using TensorFlow backend.\n"
          ],
          "name": "stderr"
        }
      ]
    },
    {
      "cell_type": "markdown",
      "metadata": {
        "id": "XC3OaVN7298U",
        "colab_type": "text"
      },
      "source": [
        "First, we download a csv export of the Google stock from [here](https://www.nasdaq.com/symbol/goog/historical).\n",
        "\n",
        "For convenience, this is saved in the presentations repository and can be access by URL."
      ]
    },
    {
      "cell_type": "code",
      "metadata": {
        "id": "gfzQSILnEzlz",
        "colab_type": "code",
        "outputId": "25fd7b0d-36ac-40c4-d6eb-cb3f391cd4f1",
        "colab": {
          "base_uri": "https://localhost:8080/",
          "height": 111
        }
      },
      "source": [
        "stock_data = pd.read_csv(\"https://github.com/HSV-AI/presentations/raw/master/2019/190619/HistoricalQuotes.csv\")\n",
        "stock_data.head(2)\n"
      ],
      "execution_count": 2,
      "outputs": [
        {
          "output_type": "execute_result",
          "data": {
            "text/html": [
              "<div>\n",
              "<style scoped>\n",
              "    .dataframe tbody tr th:only-of-type {\n",
              "        vertical-align: middle;\n",
              "    }\n",
              "\n",
              "    .dataframe tbody tr th {\n",
              "        vertical-align: top;\n",
              "    }\n",
              "\n",
              "    .dataframe thead th {\n",
              "        text-align: right;\n",
              "    }\n",
              "</style>\n",
              "<table border=\"1\" class=\"dataframe\">\n",
              "  <thead>\n",
              "    <tr style=\"text-align: right;\">\n",
              "      <th></th>\n",
              "      <th>date</th>\n",
              "      <th>close</th>\n",
              "      <th>volume</th>\n",
              "      <th>open</th>\n",
              "      <th>high</th>\n",
              "      <th>low</th>\n",
              "    </tr>\n",
              "  </thead>\n",
              "  <tbody>\n",
              "    <tr>\n",
              "      <th>0</th>\n",
              "      <td>16:00</td>\n",
              "      <td>1,103.60</td>\n",
              "      <td>1,386,584</td>\n",
              "      <td>1,107.82</td>\n",
              "      <td>1,116.39</td>\n",
              "      <td>1,098.99</td>\n",
              "    </tr>\n",
              "    <tr>\n",
              "      <th>1</th>\n",
              "      <td>2019/06/18</td>\n",
              "      <td>1103.6000</td>\n",
              "      <td>1386684.0000</td>\n",
              "      <td>1109.6900</td>\n",
              "      <td>1116.3900</td>\n",
              "      <td>1098.9900</td>\n",
              "    </tr>\n",
              "  </tbody>\n",
              "</table>\n",
              "</div>"
            ],
            "text/plain": [
              "         date      close        volume       open       high        low\n",
              "0       16:00   1,103.60     1,386,584   1,107.82   1,116.39   1,098.99\n",
              "1  2019/06/18  1103.6000  1386684.0000  1109.6900  1116.3900  1098.9900"
            ]
          },
          "metadata": {
            "tags": []
          },
          "execution_count": 2
        }
      ]
    },
    {
      "cell_type": "code",
      "metadata": {
        "id": "G4pUHIlMEzl3",
        "colab_type": "code",
        "outputId": "7db458cb-622a-4dcb-9870-7d80f73d87b0",
        "colab": {
          "base_uri": "https://localhost:8080/",
          "height": 204
        }
      },
      "source": [
        "stock_data.info()"
      ],
      "execution_count": 3,
      "outputs": [
        {
          "output_type": "stream",
          "text": [
            "<class 'pandas.core.frame.DataFrame'>\n",
            "RangeIndex: 1260 entries, 0 to 1259\n",
            "Data columns (total 6 columns):\n",
            "date      1260 non-null object\n",
            "close     1260 non-null object\n",
            "volume    1260 non-null object\n",
            "open      1260 non-null object\n",
            "high      1260 non-null object\n",
            "low       1260 non-null object\n",
            "dtypes: object(6)\n",
            "memory usage: 59.1+ KB\n"
          ],
          "name": "stdout"
        }
      ]
    },
    {
      "cell_type": "code",
      "metadata": {
        "id": "vv-HEWUiEzl5",
        "colab_type": "code",
        "colab": {}
      },
      "source": [
        "stock_data.high = (stock_data.high.str.split()).apply(lambda x: float(x[0].replace(',', '')))\n",
        "stock_data.low = (stock_data.low.str.split()).apply(lambda x: float(x[0].replace(',', '')))\n",
        "stock_data.volume = (stock_data.volume.str.split()).apply(lambda x: float(x[0].replace(',', '')))\n"
      ],
      "execution_count": 0,
      "outputs": []
    },
    {
      "cell_type": "code",
      "metadata": {
        "id": "JsLHuYfuEzl7",
        "colab_type": "code",
        "outputId": "e66fc534-61e0-4fcc-f0e0-261ca0487156",
        "colab": {
          "base_uri": "https://localhost:8080/",
          "height": 111
        }
      },
      "source": [
        "\n",
        "stock_data[\"average\"] = (stock_data[\"high\"] + stock_data[\"low\"])/2\n",
        "stock_data.head(2)\n"
      ],
      "execution_count": 5,
      "outputs": [
        {
          "output_type": "execute_result",
          "data": {
            "text/html": [
              "<div>\n",
              "<style scoped>\n",
              "    .dataframe tbody tr th:only-of-type {\n",
              "        vertical-align: middle;\n",
              "    }\n",
              "\n",
              "    .dataframe tbody tr th {\n",
              "        vertical-align: top;\n",
              "    }\n",
              "\n",
              "    .dataframe thead th {\n",
              "        text-align: right;\n",
              "    }\n",
              "</style>\n",
              "<table border=\"1\" class=\"dataframe\">\n",
              "  <thead>\n",
              "    <tr style=\"text-align: right;\">\n",
              "      <th></th>\n",
              "      <th>date</th>\n",
              "      <th>close</th>\n",
              "      <th>volume</th>\n",
              "      <th>open</th>\n",
              "      <th>high</th>\n",
              "      <th>low</th>\n",
              "      <th>average</th>\n",
              "    </tr>\n",
              "  </thead>\n",
              "  <tbody>\n",
              "    <tr>\n",
              "      <th>0</th>\n",
              "      <td>16:00</td>\n",
              "      <td>1,103.60</td>\n",
              "      <td>1386584.0</td>\n",
              "      <td>1,107.82</td>\n",
              "      <td>1116.39</td>\n",
              "      <td>1098.99</td>\n",
              "      <td>1107.69</td>\n",
              "    </tr>\n",
              "    <tr>\n",
              "      <th>1</th>\n",
              "      <td>2019/06/18</td>\n",
              "      <td>1103.6000</td>\n",
              "      <td>1386684.0</td>\n",
              "      <td>1109.6900</td>\n",
              "      <td>1116.39</td>\n",
              "      <td>1098.99</td>\n",
              "      <td>1107.69</td>\n",
              "    </tr>\n",
              "  </tbody>\n",
              "</table>\n",
              "</div>"
            ],
            "text/plain": [
              "         date      close     volume       open     high      low  average\n",
              "0       16:00   1,103.60  1386584.0   1,107.82  1116.39  1098.99  1107.69\n",
              "1  2019/06/18  1103.6000  1386684.0  1109.6900  1116.39  1098.99  1107.69"
            ]
          },
          "metadata": {
            "tags": []
          },
          "execution_count": 5
        }
      ]
    },
    {
      "cell_type": "code",
      "metadata": {
        "id": "TJ34qylyEzl-",
        "colab_type": "code",
        "colab": {}
      },
      "source": [
        "input_feature= stock_data.iloc[:,[2,6]].values\n",
        "input_data = input_feature"
      ],
      "execution_count": 0,
      "outputs": []
    },
    {
      "cell_type": "code",
      "metadata": {
        "id": "dxLdYEzQEzmA",
        "colab_type": "code",
        "outputId": "bdc77ddf-432a-4558-ea4d-843e8b8b1206",
        "colab": {
          "base_uri": "https://localhost:8080/",
          "height": 295
        }
      },
      "source": [
        "plt.plot(input_feature[:,0])\n",
        "plt.title(\"Volume of stocks sold\")\n",
        "plt.xlabel(\"Time (latest-> oldest)\")\n",
        "plt.ylabel(\"Volume of stocks traded\")\n",
        "plt.show()"
      ],
      "execution_count": 7,
      "outputs": [
        {
          "output_type": "display_data",
          "data": {
            "image/png": "[encoded data removed]",
            "text/plain": [
              "<Figure size 432x288 with 1 Axes>"
            ]
          },
          "metadata": {
            "tags": []
          }
        }
      ]
    },
    {
      "cell_type": "code",
      "metadata": {
        "id": "NB-cCbhuEzmD",
        "colab_type": "code",
        "outputId": "688fe327-f2e6-4de9-e147-45f1750053a6",
        "colab": {
          "base_uri": "https://localhost:8080/",
          "height": 295
        }
      },
      "source": [
        "plt.plot(input_feature[:,1], color='blue')\n",
        "plt.title(\"Google Stock Prices\")\n",
        "plt.xlabel(\"Time (latest-> oldest)\")\n",
        "plt.ylabel(\"Stock Opening Price\")\n",
        "plt.show()"
      ],
      "execution_count": 8,
      "outputs": [
        {
          "output_type": "display_data",
          "data": {
            "image/png": "[encoded data removed]",
            "text/plain": [
              "<Figure size 432x288 with 1 Axes>"
            ]
          },
          "metadata": {
            "tags": []
          }
        }
      ]
    },
    {
      "cell_type": "code",
      "metadata": {
        "id": "bagdBI7REzmF",
        "colab_type": "code",
        "colab": {}
      },
      "source": [
        "sc= MinMaxScaler(feature_range=(0,1))\n",
        "input_data[:,0:2] = sc.fit_transform(input_feature[:,:])"
      ],
      "execution_count": 0,
      "outputs": []
    },
    {
      "cell_type": "code",
      "metadata": {
        "id": "4q7q5lPoEzmH",
        "colab_type": "code",
        "colab": {}
      },
      "source": [
        "lookback= 50\n",
        "\n",
        "test_size=int(.3 * len(stock_data))\n",
        "X=[]\n",
        "y=[]\n",
        "for i in range(len(stock_data)-lookback-1):\n",
        "    t=[]\n",
        "    for j in range(0,lookback):\n",
        "        \n",
        "        t.append(input_data[[(i+j)], :])\n",
        "    X.append(t)\n",
        "    y.append(input_data[i+ lookback,1])"
      ],
      "execution_count": 0,
      "outputs": []
    },
    {
      "cell_type": "code",
      "metadata": {
        "id": "001jflatEzmJ",
        "colab_type": "code",
        "outputId": "b596e0e9-7cfd-45e2-d7e4-45c85b6be312",
        "colab": {
          "base_uri": "https://localhost:8080/",
          "height": 51
        }
      },
      "source": [
        "X, y= np.array(X), np.array(y)\n",
        "X_test = X[:test_size+lookback]\n",
        "X = X.reshape(X.shape[0],lookback, 2)\n",
        "X_test = X_test.reshape(X_test.shape[0],lookback, 2)\n",
        "print(X.shape)\n",
        "print(X_test.shape)"
      ],
      "execution_count": 12,
      "outputs": [
        {
          "output_type": "stream",
          "text": [
            "(1209, 50, 2)\n",
            "(428, 50, 2)\n"
          ],
          "name": "stdout"
        }
      ]
    },
    {
      "cell_type": "code",
      "metadata": {
        "id": "7T929JgGEzmP",
        "colab_type": "code",
        "outputId": "99977a6e-06cb-4b87-83d7-316ed0b8cd19",
        "colab": {
          "base_uri": "https://localhost:8080/",
          "height": 360
        }
      },
      "source": [
        "model = Sequential()\n",
        "model.add(LSTM(units=30, return_sequences= True, input_shape=(X.shape[1],2)))\n",
        "model.add(LSTM(units=30, return_sequences=True))\n",
        "model.add(LSTM(units=30))\n",
        "model.add(Dense(units=1))\n",
        "model.summary()\n"
      ],
      "execution_count": 13,
      "outputs": [
        {
          "output_type": "stream",
          "text": [
            "W0619 23:48:19.330781 140072760121216 deprecation_wrapper.py:119] From /usr/local/lib/python3.6/dist-packages/keras/backend/tensorflow_backend.py:517: The name tf.placeholder is deprecated. Please use tf.compat.v1.placeholder instead.\n",
            "\n",
            "W0619 23:48:19.345762 140072760121216 deprecation_wrapper.py:119] From /usr/local/lib/python3.6/dist-packages/keras/backend/tensorflow_backend.py:4138: The name tf.random_uniform is deprecated. Please use tf.random.uniform instead.\n",
            "\n"
          ],
          "name": "stderr"
        },
        {
          "output_type": "stream",
          "text": [
            "_________________________________________________________________\n",
            "Layer (type)                 Output Shape              Param #   \n",
            "=================================================================\n",
            "lstm_1 (LSTM)                (None, 50, 30)            3960      \n",
            "_________________________________________________________________\n",
            "lstm_2 (LSTM)                (None, 50, 30)            7320      \n",
            "_________________________________________________________________\n",
            "lstm_3 (LSTM)                (None, 30)                7320      \n",
            "_________________________________________________________________\n",
            "dense_1 (Dense)              (None, 1)                 31        \n",
            "=================================================================\n",
            "Total params: 18,631\n",
            "Trainable params: 18,631\n",
            "Non-trainable params: 0\n",
            "_________________________________________________________________\n"
          ],
          "name": "stdout"
        }
      ]
    },
    {
      "cell_type": "code",
      "metadata": {
        "id": "3mWzbiUbGAVC",
        "colab_type": "code",
        "outputId": "026dd500-a9f5-470d-e2de-b0b620cc7ec9",
        "colab": {
          "base_uri": "https://localhost:8080/",
          "height": 71
        }
      },
      "source": [
        "model.compile(optimizer='adam', loss='mean_squared_error')"
      ],
      "execution_count": 14,
      "outputs": [
        {
          "output_type": "stream",
          "text": [
            "W0619 23:50:43.928169 140072760121216 deprecation_wrapper.py:119] From /usr/local/lib/python3.6/dist-packages/keras/optimizers.py:790: The name tf.train.Optimizer is deprecated. Please use tf.compat.v1.train.Optimizer instead.\n",
            "\n"
          ],
          "name": "stderr"
        }
      ]
    },
    {
      "cell_type": "code",
      "metadata": {
        "id": "6G7gcUIGGD0h",
        "colab_type": "code",
        "outputId": "e31b5ad1-02cf-47ea-db57-8e773af75b40",
        "colab": {
          "base_uri": "https://localhost:8080/",
          "height": 1873
        }
      },
      "source": [
        "model.fit(X, y, epochs=50, batch_size=32)\n"
      ],
      "execution_count": 15,
      "outputs": [
        {
          "output_type": "stream",
          "text": [
            "W0619 23:51:22.372536 140072760121216 deprecation.py:323] From /usr/local/lib/python3.6/dist-packages/tensorflow/python/ops/math_grad.py:1250: add_dispatch_support.<locals>.wrapper (from tensorflow.python.ops.array_ops) is deprecated and will be removed in a future version.\n",
            "Instructions for updating:\n",
            "Use tf.where in 2.0, which has the same broadcast rule as np.where\n",
            "W0619 23:51:24.558174 140072760121216 deprecation_wrapper.py:119] From /usr/local/lib/python3.6/dist-packages/keras/backend/tensorflow_backend.py:986: The name tf.assign_add is deprecated. Please use tf.compat.v1.assign_add instead.\n",
            "\n",
            "W0619 23:51:24.743005 140072760121216 deprecation_wrapper.py:119] From /usr/local/lib/python3.6/dist-packages/keras/backend/tensorflow_backend.py:973: The name tf.assign is deprecated. Please use tf.compat.v1.assign instead.\n",
            "\n"
          ],
          "name": "stderr"
        },
        {
          "output_type": "stream",
          "text": [
            "Epoch 1/50\n",
            "1209/1209 [==============================] - 6s 5ms/step - loss: 0.0445\n",
            "Epoch 2/50\n",
            "1209/1209 [==============================] - 3s 3ms/step - loss: 0.0024\n",
            "Epoch 3/50\n",
            "1209/1209 [==============================] - 3s 3ms/step - loss: 0.0019\n",
            "Epoch 4/50\n",
            "1209/1209 [==============================] - 4s 3ms/step - loss: 0.0017\n",
            "Epoch 5/50\n",
            "1209/1209 [==============================] - 3s 3ms/step - loss: 0.0016\n",
            "Epoch 6/50\n",
            "1209/1209 [==============================] - 4s 3ms/step - loss: 0.0015\n",
            "Epoch 7/50\n",
            "1209/1209 [==============================] - 3s 3ms/step - loss: 0.0015\n",
            "Epoch 8/50\n",
            "1209/1209 [==============================] - 3s 3ms/step - loss: 0.0014\n",
            "Epoch 9/50\n",
            "1209/1209 [==============================] - 3s 3ms/step - loss: 0.0014\n",
            "Epoch 10/50\n",
            "1209/1209 [==============================] - 3s 3ms/step - loss: 0.0014\n",
            "Epoch 11/50\n",
            "1209/1209 [==============================] - 3s 3ms/step - loss: 0.0013\n",
            "Epoch 12/50\n",
            "1209/1209 [==============================] - 3s 3ms/step - loss: 0.0012\n",
            "Epoch 13/50\n",
            "1209/1209 [==============================] - 3s 3ms/step - loss: 0.0013\n",
            "Epoch 14/50\n",
            "1209/1209 [==============================] - 3s 3ms/step - loss: 0.0013\n",
            "Epoch 15/50\n",
            "1209/1209 [==============================] - 3s 3ms/step - loss: 0.0012\n",
            "Epoch 16/50\n",
            "1209/1209 [==============================] - 4s 3ms/step - loss: 0.0012\n",
            "Epoch 17/50\n",
            "1209/1209 [==============================] - 3s 3ms/step - loss: 0.0013\n",
            "Epoch 18/50\n",
            "1209/1209 [==============================] - 3s 3ms/step - loss: 0.0012\n",
            "Epoch 19/50\n",
            "1209/1209 [==============================] - 3s 3ms/step - loss: 0.0011\n",
            "Epoch 20/50\n",
            "1209/1209 [==============================] - 3s 3ms/step - loss: 0.0011\n",
            "Epoch 21/50\n",
            "1209/1209 [==============================] - 3s 3ms/step - loss: 0.0010\n",
            "Epoch 22/50\n",
            "1209/1209 [==============================] - 3s 3ms/step - loss: 9.9628e-04\n",
            "Epoch 23/50\n",
            "1209/1209 [==============================] - 3s 3ms/step - loss: 0.0012\n",
            "Epoch 24/50\n",
            "1209/1209 [==============================] - 3s 3ms/step - loss: 9.9173e-04\n",
            "Epoch 25/50\n",
            "1209/1209 [==============================] - 3s 3ms/step - loss: 0.0010\n",
            "Epoch 26/50\n",
            "1209/1209 [==============================] - 3s 3ms/step - loss: 9.8403e-04\n",
            "Epoch 27/50\n",
            "1209/1209 [==============================] - 3s 3ms/step - loss: 9.4238e-04\n",
            "Epoch 28/50\n",
            "1209/1209 [==============================] - 3s 3ms/step - loss: 9.4883e-04\n",
            "Epoch 29/50\n",
            "1209/1209 [==============================] - 3s 3ms/step - loss: 0.0010\n",
            "Epoch 30/50\n",
            "1209/1209 [==============================] - 3s 3ms/step - loss: 9.0118e-04\n",
            "Epoch 31/50\n",
            "1209/1209 [==============================] - 3s 3ms/step - loss: 8.7597e-04\n",
            "Epoch 32/50\n",
            "1209/1209 [==============================] - 3s 3ms/step - loss: 8.3425e-04\n",
            "Epoch 33/50\n",
            "1209/1209 [==============================] - 3s 3ms/step - loss: 8.3541e-04\n",
            "Epoch 34/50\n",
            "1209/1209 [==============================] - 3s 3ms/step - loss: 7.8868e-04\n",
            "Epoch 35/50\n",
            "1209/1209 [==============================] - 3s 3ms/step - loss: 8.2389e-04\n",
            "Epoch 36/50\n",
            "1209/1209 [==============================] - 3s 3ms/step - loss: 8.4866e-04\n",
            "Epoch 37/50\n",
            "1209/1209 [==============================] - 3s 3ms/step - loss: 8.0312e-04\n",
            "Epoch 38/50\n",
            "1209/1209 [==============================] - 3s 3ms/step - loss: 7.4880e-04\n",
            "Epoch 39/50\n",
            "1209/1209 [==============================] - 3s 3ms/step - loss: 8.0660e-04\n",
            "Epoch 40/50\n",
            "1209/1209 [==============================] - 3s 3ms/step - loss: 7.9236e-04\n",
            "Epoch 41/50\n",
            "1209/1209 [==============================] - 3s 3ms/step - loss: 7.3771e-04\n",
            "Epoch 42/50\n",
            "1209/1209 [==============================] - 3s 3ms/step - loss: 7.1796e-04\n",
            "Epoch 43/50\n",
            "1209/1209 [==============================] - 3s 3ms/step - loss: 7.7882e-04\n",
            "Epoch 44/50\n",
            "1209/1209 [==============================] - 3s 3ms/step - loss: 6.6343e-04\n",
            "Epoch 45/50\n",
            "1209/1209 [==============================] - 3s 3ms/step - loss: 6.6305e-04\n",
            "Epoch 46/50\n",
            "1209/1209 [==============================] - 3s 3ms/step - loss: 6.1564e-04\n",
            "Epoch 47/50\n",
            "1209/1209 [==============================] - 3s 3ms/step - loss: 5.7428e-04\n",
            "Epoch 48/50\n",
            "1209/1209 [==============================] - 3s 3ms/step - loss: 5.6111e-04\n",
            "Epoch 49/50\n",
            "1209/1209 [==============================] - 3s 3ms/step - loss: 5.9957e-04\n",
            "Epoch 50/50\n",
            "1209/1209 [==============================] - 3s 3ms/step - loss: 5.9248e-04\n"
          ],
          "name": "stdout"
        },
        {
          "output_type": "execute_result",
          "data": {
            "text/plain": [
              "<keras.callbacks.History at 0x7f64f76c2668>"
            ]
          },
          "metadata": {
            "tags": []
          },
          "execution_count": 15
        }
      ]
    },
    {
      "cell_type": "code",
      "metadata": {
        "id": "sK0fRupFKkgs",
        "colab_type": "code",
        "colab": {}
      },
      "source": [
        "predicted_value= model.predict(X_test)\n"
      ],
      "execution_count": 0,
      "outputs": []
    },
    {
      "cell_type": "code",
      "metadata": {
        "id": "_VZJvfwHHHro",
        "colab_type": "code",
        "colab": {
          "base_uri": "https://localhost:8080/",
          "height": 295
        },
        "outputId": "43f51ebb-f8dd-4fac-a127-b957fa49934a"
      },
      "source": [
        "plt.plot(predicted_value, color= 'red')\n",
        "plt.plot(input_data[lookback:test_size+(2*lookback),1], color='green')\n",
        "plt.title(\"Opening price of stocks sold\")\n",
        "plt.xlabel(\"Time (latest-> oldest)\")\n",
        "plt.ylabel(\"Stock Opening Price\")\n",
        "plt.show()"
      ],
      "execution_count": 19,
      "outputs": [
        {
          "output_type": "display_data",
          "data": {
            "image/png": "[encoded data removed]",
            "text/plain": [
              "<Figure size 432x288 with 1 Axes>"
            ]
          },
          "metadata": {
            "tags": []
          }
        }
      ]
    }
  ]
}