{
 "cells": [
  {
   "cell_type": "markdown",
   "metadata": {
    "colab_type": "text",
    "id": "VJqMRMXnECyo",
    "slideshow": {
     "slide_type": "slide"
    }
   },
   "source": [
    "![HSV-AI Logo](https://github.com/HSV-AI/hugo-website/blob/master/static/images/logo_v9.png?raw=true)\n",
    "\n",
    "<center><h1>National Defense Education Program</h1></center>\n",
    "\n",
    "<br/><br/><br/>\n",
    "<center><h1>Welcome to Huntsville AI!</h1></center>"
   ]
  },
  {
   "cell_type": "markdown",
   "metadata": {
    "slideshow": {
     "slide_type": "slide"
    }
   },
   "source": [
    "## Brief Intro\n",
    "\n",
    "### What we do at Huntsville AI:\n",
    "\n",
    "* Application - how to solve a problem with a technology\n",
    "* Theory - for those times when knowing “How” something works is necessary\n",
    "* Social / Ethics - Human / AI interaction\n",
    "* Brainstorming - new uses for existing solutions\n",
    "* Hands on Code - for those times when you just have to run something for yourself\n",
    "* Coworking Night - maybe have combined sessions with other groups to discuss application in their focus areas\n",
    "* Community - get to know others in the field. Provide talks like this one and support local tech events (HATCH, SpaceApps)"
   ]
  },
  {
   "cell_type": "markdown",
   "metadata": {
    "slideshow": {
     "slide_type": "slide"
    }
   },
   "source": [
    "### About me\n",
    "\n",
    "J. Langley\n",
    "\n",
    "Chief Technical Officer at CohesionForce, Inc.\n",
    "\n",
    "Founder of Session Board & Huntsville AI\n",
    "\n",
    "Involved in Open Source (Eclipse & Apache Foundations)\n",
    "\n",
    "Started playing with AI about 15 years ago when Intelligent Agents were all the rage. \n",
    "\n",
    "Developed a Naive Bayes approach for text classification, a Neural Network for audio classification, heavily into NLP.\n"
   ]
  },
  {
   "cell_type": "markdown",
   "metadata": {
    "slideshow": {
     "slide_type": "slide"
    }
   },
   "source": [
    "## What is this AI thing?\n",
    "\n",
    "Artificial Intelligence - computer program learning how to solve problems based on data\n",
    "\n",
    "### Breaking it Down\n",
    "\n",
    "There are several ways to break the subject of AI into digestible chunks"
   ]
  },
  {
   "cell_type": "markdown",
   "metadata": {
    "slideshow": {
     "slide_type": "slide"
    }
   },
   "source": [
    "Here’s a useful way to think about the relationship between AI, ML, and Deep Learning.\n",
    "\n",
    "![Image](AI_Subsets.png)\n",
    "\n",
    "This is adapted from Ian Goodfellows book:\n",
    "Deep Learning : https://www.deeplearningbook.org/\n"
   ]
  },
  {
   "cell_type": "markdown",
   "metadata": {
    "slideshow": {
     "slide_type": "slide"
    }
   },
   "source": [
    "Here's another view of AI:\n",
    "\n",
    "![Image](AI_Venn.png)\n"
   ]
  },
  {
   "cell_type": "markdown",
   "metadata": {
    "slideshow": {
     "slide_type": "slide"
    }
   },
   "source": [
    "# Lifecycle Breakdown\n",
    "\n",
    "Yet another way to break down the AI industry is by the lifecycle of a project:\n",
    "\n",
    "* **Academic** - Developing novel approaches or architectures for AI\n",
    "* **Application** - Applying AI techniques to solve real world problems\n",
    "* **ML-OPS & Tools** - Applications that provide support for the development and deployment of AI workflows\n",
    "\n",
    "[Google MLOps Paper](https://cloud.google.com/solutions/machine-learning/mlops-continuous-delivery-and-automation-pipelines-in-machine-learning)"
   ]
  },
  {
   "cell_type": "markdown",
   "metadata": {
    "slideshow": {
     "slide_type": "slide"
    }
   },
   "source": [
    "# Human Level AI Performance Milestones\n",
    "\n",
    "Page 68 here: https://hai.stanford.edu/sites/default/files/ai_index_2019_report.pdf\n"
   ]
  },
  {
   "cell_type": "markdown",
   "metadata": {
    "slideshow": {
     "slide_type": "slide"
    }
   },
   "source": [
    "## How does this stuff work?\n",
    "\n",
    "### Universal Approximation Theorem\n",
    "The theorem states that the first layer can approximate any well-behaved function. Such a well-behaved function can also be approximated by a network of greater depth by using the same construction for the first layer and approximating the identity function with later layers.\n",
    "\n",
    "## Neural Networks!"
   ]
  },
  {
   "cell_type": "markdown",
   "metadata": {
    "slideshow": {
     "slide_type": "slide"
    }
   },
   "source": [
    "![NeuralNetwork](https://upload.wikimedia.org/wikipedia/commons/c/c2/MultiLayerNeuralNetworkBigger_english.png)"
   ]
  },
  {
   "cell_type": "markdown",
   "metadata": {
    "slideshow": {
     "slide_type": "slide"
    }
   },
   "source": [
    "## Deep Neural Network\n",
    "\n",
    "A deep neural network has a lot more layers stacked in between the inputs and the outputs."
   ]
  },
  {
   "cell_type": "markdown",
   "metadata": {
    "slideshow": {
     "slide_type": "slide"
    }
   },
   "source": [
    "## AI Applications\n",
    "\n",
    "* Classification\n",
    "  * Medical\n",
    "  * Agriculture\n",
    "  * Fraud Detection\n",
    "* Recommendation\n",
    "  * Product placement\n",
    "  * Social Media / Marketing\n",
    "  * Online shopping\n",
    "* Generation\n",
    "  * Images\n",
    "  * Text\n"
   ]
  },
  {
   "cell_type": "markdown",
   "metadata": {
    "slideshow": {
     "slide_type": "slide"
    }
   },
   "source": [
    "## Why you should consider a career in AI\n",
    "\n",
    "* It's important\n",
    "* It's everywhere\n",
    "* We need you\n"
   ]
  },
  {
   "cell_type": "markdown",
   "metadata": {
    "slideshow": {
     "slide_type": "fragment"
    }
   },
   "source": [
    "<center><h2>It's really cool!</h2></center>"
   ]
  },
  {
   "cell_type": "markdown",
   "metadata": {
    "slideshow": {
     "slide_type": "slide"
    }
   },
   "source": [
    "## Top 4 Department of Defense [Modernization Priorities](https://www.cto.mil/modernization-priorities/):\n",
    "\n",
    "* AI\n",
    "* Biotech\n",
    "* Autonomy\n",
    "* Cyber\n"
   ]
  },
  {
   "cell_type": "markdown",
   "metadata": {
    "slideshow": {
     "slide_type": "slide"
    }
   },
   "source": [
    "### Diversity can help solve some of the bias problems in current AI:\n",
    "\n",
    "Research earlier in 2019 from Joy Buolamwini and Timnit Gebru evaluated computer vision products from IBM, Microsoft, and elsewhere, and they found that these products performed worse on women than on men and worse on people with dark skin compared to people with light skin. For instance, IBM's computer vision software was 99.7% accurate on light-skinned men and only 65% accurate on dark-skinned women.\n"
   ]
  },
  {
   "cell_type": "markdown",
   "metadata": {
    "slideshow": {
     "slide_type": "fragment"
    }
   },
   "source": [
    "Amazon’s Face Recognition Falsely Matched 28 Members of Congress With Mugshots:\n",
    "\n",
    "[Link to ACLU Article](https://www.aclu.org/blog/privacy-technology/surveillance-technologies/amazons-face-recognition-falsely-matched-28)"
   ]
  },
  {
   "cell_type": "markdown",
   "metadata": {
    "slideshow": {
     "slide_type": "slide"
    }
   },
   "source": [
    "## Model to create high resolution images from pixelated images\n",
    "\n",
    "Here's a [tweet](https://twitter.com/tg_bomze/status/1274098682284163072) that shows a new model that can create realistic high-resolution images from a single low resolution starting point."
   ]
  },
  {
   "cell_type": "markdown",
   "metadata": {
    "slideshow": {
     "slide_type": "fragment"
    }
   },
   "source": [
    "### And...\n",
    "\n",
    "Here's the [tweet](https://twitter.com/osazuwa/status/1274444300894572546) that shows a pretty big problem with the model."
   ]
  },
  {
   "cell_type": "markdown",
   "metadata": {
    "slideshow": {
     "slide_type": "slide"
    }
   },
   "source": [
    "# Free Education Resources:\n",
    "\n",
    "* Ian Goodfellow - http://www.deeplearningbook.org/ \n",
    "* Google - https://ai.google/education/\n",
    "* Machine Learning course from Stanford: https://www.coursera.org/learn/machine-learning\n",
    "* Intro to Tensorflow for Deep Learning from Google: https://www.udacity.com/course/intro-to-tensorflow-for-deep-learning--ud187\n",
    "* Machine Learning course from Columbia: https://www.edx.org/course/machine-learning\n",
    "* Fast.ai: https://www.fast.ai/"
   ]
  }
 ],
 "metadata": {
  "celltoolbar": "Slideshow",
  "colab": {
   "name": "Topic_Modeling_LDA.ipynb",
   "provenance": [],
   "toc_visible": true,
   "version": "0.3.2"
  },
  "kernelspec": {
   "display_name": "Python 3",
   "language": "python",
   "name": "python3"
  },
  "language_info": {
   "codemirror_mode": {
    "name": "ipython",
    "version": 3
   },
   "file_extension": ".py",
   "mimetype": "text/x-python",
   "name": "python",
   "nbconvert_exporter": "python",
   "pygments_lexer": "ipython3",
   "version": "3.7.3"
  }
 },
 "nbformat": 4,
 "nbformat_minor": 1
}
