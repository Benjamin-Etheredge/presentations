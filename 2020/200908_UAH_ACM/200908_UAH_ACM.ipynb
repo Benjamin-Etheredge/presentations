{
 "cells": [
  {
   "cell_type": "markdown",
   "metadata": {
    "colab_type": "text",
    "id": "VJqMRMXnECyo",
    "slideshow": {
     "slide_type": "slide"
    }
   },
   "source": [
    "![HSV-AI Logo](https://github.com/HSV-AI/hugo-website/blob/master/static/images/logo_v9.png?raw=true)\n",
    "\n",
    "<center><h1>Huntsville AI Goes to College</h1></center>\n",
    "<center><h2>(Covid Edition)</h2></center>\n",
    "\n",
    "<br/><br/><br/>\n",
    "<center><h1>Welcome to Huntsville AI!</h1></center>"
   ]
  },
  {
   "cell_type": "markdown",
   "metadata": {
    "slideshow": {
     "slide_type": "slide"
    }
   },
   "source": [
    "## Brief Intro\n",
    "\n",
    "### What we do at Huntsville AI:\n",
    "\n",
    "* Application - how to solve a problem with a technology\n",
    "* Theory - for those times when knowing “How” something works is necessary\n",
    "* Social / Ethics - Human / AI interaction\n",
    "* Brainstorming - new uses for existing solutions\n",
    "* Hands on Code - for those times when you just have to run something for yourself\n",
    "* Coworking Night - maybe have combined sessions with other groups to discuss application in their focus areas\n",
    "* Community - get to know others in the field. Provide talks like this one and support local tech events (HATCH, SpaceApps)"
   ]
  },
  {
   "cell_type": "markdown",
   "metadata": {
    "slideshow": {
     "slide_type": "slide"
    }
   },
   "source": [
    "### About me\n",
    "\n",
    "J. Langley\n",
    "\n",
    "Chief Technical Officer at CohesionForce, Inc.\n",
    "\n",
    "Founder of Session Board & Huntsville AI\n",
    "\n",
    "Involved in Open Source (Eclipse & Apache Foundations)\n",
    "\n",
    "Started playing with AI about 15 years ago when Intelligent Agents were all the rage. \n",
    "\n",
    "Developed a Naive Bayes approach for text classification, a Neural Network for audio classification, heavily into NLP.\n"
   ]
  },
  {
   "cell_type": "markdown",
   "metadata": {
    "slideshow": {
     "slide_type": "slide"
    }
   },
   "source": [
    "Here’s a useful way to think about the relationship between AI, ML, and Deep Learning.\n",
    "\n",
    "![Image](AI_Subsets.png)\n",
    "\n",
    "This is adapted from Ian Goodfellows book:\n",
    "Deep Learning : https://www.deeplearningbook.org/\n"
   ]
  },
  {
   "cell_type": "markdown",
   "metadata": {
    "slideshow": {
     "slide_type": "slide"
    }
   },
   "source": [
    "Here's another view of AI:\n",
    "\n",
    "![Image](AI_Venn.png)\n",
    "\n",
    "* Supervised Learning - Labelled data is used to create a model which is applied to similar data\n",
    "* Unsupervised Learning - used to draw inferences from datasets consisting of input data without labeled responses.\n",
    "* Reinforcement Learning - concerned with how software agents ought to take actions in an environment so as to maximize some notion of cumulative reward."
   ]
  },
  {
   "cell_type": "markdown",
   "metadata": {
    "slideshow": {
     "slide_type": "slide"
    }
   },
   "source": [
    "# Lifecycle Breakdown\n",
    "\n",
    "Yet another way to break down the AI industry is by the lifecycle of a project:\n",
    "\n",
    "* **Academic** - Developing novel approaches or architectures for AI\n",
    "* **Application** - Applying AI techniques to solve real world problems\n",
    "* **ML-OPS & Tools** - Applications that provide support for the development and deployment of AI workflows\n",
    "\n",
    "[Google MLOps Paper](https://cloud.google.com/solutions/machine-learning/mlops-continuous-delivery-and-automation-pipelines-in-machine-learning)"
   ]
  },
  {
   "cell_type": "markdown",
   "metadata": {
    "slideshow": {
     "slide_type": "slide"
    }
   },
   "source": [
    "# AI Papers on arXiv\n",
    "\n",
    "![Image](Papers.png)"
   ]
  },
  {
   "cell_type": "markdown",
   "metadata": {
    "slideshow": {
     "slide_type": "slide"
    }
   },
   "source": [
    "# Human Level AI Performance Milestones\n",
    "\n",
    "Page 68 here: https://hai.stanford.edu/sites/default/files/ai_index_2019_report.pdf\n"
   ]
  },
  {
   "cell_type": "markdown",
   "metadata": {
    "colab": {},
    "colab_type": "code",
    "id": "K39A_bvlECyy",
    "slideshow": {
     "slide_type": "slide"
    }
   },
   "source": [
    "Links for previous sessions:\n",
    "\n",
    "[Data Analysis with Jupyter](https://colab.research.google.com/github/HSV-AI/presentations/blob/master/2019/191002_Data_Analysis_Jupyter.ipynb)\n",
    "\n",
    "[MUSK Classification](https://colab.research.google.com/github/HSV-AI/presentations/blob/master/2019/190213/MUSK%20Classification.ipynb)\n",
    "\n",
    "[Intro to SpaCy](https://colab.research.google.com/github/HSV-AI/presentations/blob/master/2019/190417_spaCy.ipynb)\n",
    "\n",
    "[Fast.AI Lesson 1](https://github.com/HSV-AI/presentations/blob/master/2020/200129_Fastai_Lesson1.md)\n",
    "\n",
    "[Amazon Rekognition](https://hsv-ai.com/meetups/190227_amazon_rekognition/)\n",
    "\n",
    "[DeerDat Notebook](https://github.com/HSV-AI/presentations/blob/master/2019/191120_Trail_Camera.ipynb)"
   ]
  },
  {
   "cell_type": "markdown",
   "metadata": {
    "slideshow": {
     "slide_type": "slide"
    }
   },
   "source": [
    "# Free Education Resources:\n",
    "\n",
    "* Ian Goodfellow - http://www.deeplearningbook.org/ \n",
    "* Google - https://ai.google/education/\n",
    "* Machine Learning course from Stanford: https://www.coursera.org/learn/machine-learning\n",
    "* Intro to Tensorflow for Deep Learning from Google: https://www.udacity.com/course/intro-to-tensorflow-for-deep-learning--ud187\n",
    "* Machine Learning course from Columbia: https://www.edx.org/course/machine-learning\n",
    "* Fast.ai: https://www.fast.ai/"
   ]
  },
  {
   "cell_type": "code",
   "execution_count": null,
   "metadata": {},
   "outputs": [],
   "source": []
  }
 ],
 "metadata": {
  "celltoolbar": "Slideshow",
  "colab": {
   "name": "Topic_Modeling_LDA.ipynb",
   "provenance": [],
   "toc_visible": true,
   "version": "0.3.2"
  },
  "kernelspec": {
   "display_name": "Python 3",
   "language": "python",
   "name": "python3"
  },
  "language_info": {
   "codemirror_mode": {
    "name": "ipython",
    "version": 3
   },
   "file_extension": ".py",
   "mimetype": "text/x-python",
   "name": "python",
   "nbconvert_exporter": "python",
   "pygments_lexer": "ipython3",
   "version": "3.6.7"
  }
 },
 "nbformat": 4,
 "nbformat_minor": 1
}
