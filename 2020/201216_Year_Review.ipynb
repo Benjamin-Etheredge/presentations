{
 "cells": [
  {
   "cell_type": "markdown",
   "metadata": {
    "colab_type": "text",
    "id": "VJqMRMXnECyo",
    "slideshow": {
     "slide_type": "slide"
    }
   },
   "source": [
    "![HSV-AI Logo](https://github.com/HSV-AI/hugo-website/blob/master/static/images/logo_v9.png?raw=true)\n",
    "\n",
    "<center><h1>2020 Year In Review</h1></center>\n",
    "<center><h2>(Covid Edition)</h2></center>\n",
    "\n",
    "<br/><br/><br/>\n",
    "<center><h1>Welcome to Huntsville AI!</h1></center>"
   ]
  },
  {
   "cell_type": "markdown",
   "metadata": {
    "slideshow": {
     "slide_type": "slide"
    }
   },
   "source": [
    "## Brief Intro\n",
    "\n",
    "### What we do at Huntsville AI:\n",
    "\n",
    "* Application - how to solve a problem with a technology\n",
    "* Theory - for those times when knowing “How” something works is necessary\n",
    "* Social / Ethics - Human / AI interaction\n",
    "* Brainstorming - new uses for existing solutions\n",
    "* Hands on Code - for those times when you just have to run something for yourself\n",
    "* Coworking Night - maybe have combined sessions with other groups to discuss application in their focus areas\n",
    "* Community - get to know others in the field. Provide talks like this one and support local tech events (HATCH, SpaceApps)"
   ]
  },
  {
   "attachments": {},
   "cell_type": "markdown",
   "metadata": {
    "slideshow": {
     "slide_type": "slide"
    }
   },
   "source": [
    "## From 2018:\n",
    "\n",
    "* Facebook group with 53 members (almost all local)\n",
    "* 12 Events at CWN and 1 at SpaceApps\n",
    "* Learning at NASA\n",
    "* Cyber Security\n",
    "* Fast.ai Lessons 1-4\n",
    "* Github page for HSV-AI\n"
   ]
  },
  {
   "attachments": {},
   "cell_type": "markdown",
   "metadata": {
    "slideshow": {
     "slide_type": "slide"
    }
   },
   "source": [
    "## From 2019:\n",
    "\n",
    "* Facebook group with 105 members (almost all local)\n",
    "* Meetup group with 81 members\n",
    "* LinkedIn group with 52 members\n",
    "* 46 Events at CoWorking Night\n",
    "* 8 Presenters\n",
    "* 2 Social Events\n",
    "* Provided tutorials and sessions for HudsonAlpha Tech Challenge, AIAA Nextgen Conference, and the NASA SpaceApps Challenge\n"
   ]
  },
  {
   "attachments": {},
   "cell_type": "markdown",
   "metadata": {
    "slideshow": {
     "slide_type": "slide"
    }
   },
   "source": [
    "## From 2020:\n",
    "\n",
    "* Facebook group with 132 members (almost all local)\n",
    "* Meetup group with 159 members\n",
    "* LinkedIn group with 53 members\n",
    "* 44 Events at CoWorking Night\n",
    "* 6 Presenters\n",
    "* 2 Social Events?\n",
    "* HudsonAlpha Tech Challenge\n",
    "* 2 UAH ACM Presentations\n",
    "* National Defense Education Program (AA&M)\n",
    "* Remote NeurIPS Meetup\n"
   ]
  },
  {
   "cell_type": "markdown",
   "metadata": {
    "slideshow": {
     "slide_type": "slide"
    }
   },
   "source": [
    "## Thoughts for 2021:\n",
    "\n",
    "* Expand the reach to include those outside of the Huntsville area\n",
    "* Combine In-Person with Virtual (Post-Covid)\n",
    "* Monthly AI/ML Paper Review\n",
    "* Quarterly socials\n",
    "* Record weekly session for later viewing by HSV-AI \"members\" that can't attend Wednesday night\n",
    "* Long Form (3+ hour) tutorial did not gain interest"
   ]
  }
 ],
 "metadata": {
  "celltoolbar": "Slideshow",
  "colab": {
   "name": "Topic_Modeling_LDA.ipynb",
   "provenance": [],
   "toc_visible": true,
   "version": "0.3.2"
  },
  "kernelspec": {
   "display_name": "Python 3",
   "language": "python",
   "name": "python3"
  },
  "language_info": {
   "codemirror_mode": {
    "name": "ipython",
    "version": 3
   },
   "file_extension": ".py",
   "mimetype": "text/x-python",
   "name": "python",
   "nbconvert_exporter": "python",
   "pygments_lexer": "ipython3",
   "version": "3.7.3"
  }
 },
 "nbformat": 4,
 "nbformat_minor": 1
}
